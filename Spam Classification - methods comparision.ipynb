{
 "cells": [
  {
   "cell_type": "markdown",
   "id": "e0f2d647",
   "metadata": {},
   "source": [
    "**Abstract** \n",
    "The main objective of this notebook is to compare different methods that help to detect spam messages. The author used logistic regression, polynomial naive Bayes, decision tree and linear vector supprot. "
   ]
  },
  {
   "cell_type": "markdown",
   "id": "8cd3af7b",
   "metadata": {},
   "source": [
    "# Import libraries"
   ]
  },
  {
   "cell_type": "code",
   "execution_count": 2,
   "id": "fdf4e3f5",
   "metadata": {},
   "outputs": [],
   "source": [
    "import numpy as np\n",
    "import pandas as pd\n",
    "import matplotlib.pyplot as plt\n",
    "import seaborn as sns\n",
    "from wordcloud import WordCloud\n",
    "import re\n",
    "import spacy\n",
    "import nltk\n",
    "from nltk.corpus import stopwords\n",
    "\n",
    "from nltk.corpus import wordnet as wn\n",
    "from sklearn.feature_extraction.text import CountVectorizer\n",
    "from sklearn.preprocessing import LabelEncoder\n",
    "from sklearn.model_selection import train_test_split\n",
    "from sklearn.naive_bayes import MultinomialNB\n",
    "from sklearn.metrics import confusion_matrix, f1_score, classification_report, accuracy_score"
   ]
  },
  {
   "cell_type": "markdown",
   "id": "405effd7",
   "metadata": {},
   "source": [
    "# Import data\n"
   ]
  },
  {
   "cell_type": "code",
   "execution_count": 3,
   "id": "7ea02d50",
   "metadata": {},
   "outputs": [
    {
     "data": {
      "text/html": [
       "<div>\n",
       "<style scoped>\n",
       "    .dataframe tbody tr th:only-of-type {\n",
       "        vertical-align: middle;\n",
       "    }\n",
       "\n",
       "    .dataframe tbody tr th {\n",
       "        vertical-align: top;\n",
       "    }\n",
       "\n",
       "    .dataframe thead th {\n",
       "        text-align: right;\n",
       "    }\n",
       "</style>\n",
       "<table border=\"1\" class=\"dataframe\">\n",
       "  <thead>\n",
       "    <tr style=\"text-align: right;\">\n",
       "      <th></th>\n",
       "      <th>Category</th>\n",
       "      <th>Message</th>\n",
       "    </tr>\n",
       "  </thead>\n",
       "  <tbody>\n",
       "    <tr>\n",
       "      <th>0</th>\n",
       "      <td>ham</td>\n",
       "      <td>Go until jurong point, crazy.. Available only ...</td>\n",
       "    </tr>\n",
       "    <tr>\n",
       "      <th>1</th>\n",
       "      <td>ham</td>\n",
       "      <td>Ok lar... Joking wif u oni...</td>\n",
       "    </tr>\n",
       "    <tr>\n",
       "      <th>2</th>\n",
       "      <td>spam</td>\n",
       "      <td>Free entry in 2 a wkly comp to win FA Cup fina...</td>\n",
       "    </tr>\n",
       "    <tr>\n",
       "      <th>3</th>\n",
       "      <td>ham</td>\n",
       "      <td>U dun say so early hor... U c already then say...</td>\n",
       "    </tr>\n",
       "    <tr>\n",
       "      <th>4</th>\n",
       "      <td>ham</td>\n",
       "      <td>Nah I don't think he goes to usf, he lives aro...</td>\n",
       "    </tr>\n",
       "    <tr>\n",
       "      <th>...</th>\n",
       "      <td>...</td>\n",
       "      <td>...</td>\n",
       "    </tr>\n",
       "    <tr>\n",
       "      <th>5567</th>\n",
       "      <td>spam</td>\n",
       "      <td>This is the 2nd time we have tried 2 contact u...</td>\n",
       "    </tr>\n",
       "    <tr>\n",
       "      <th>5568</th>\n",
       "      <td>ham</td>\n",
       "      <td>Will ü b going to esplanade fr home?</td>\n",
       "    </tr>\n",
       "    <tr>\n",
       "      <th>5569</th>\n",
       "      <td>ham</td>\n",
       "      <td>Pity, * was in mood for that. So...any other s...</td>\n",
       "    </tr>\n",
       "    <tr>\n",
       "      <th>5570</th>\n",
       "      <td>ham</td>\n",
       "      <td>The guy did some bitching but I acted like i'd...</td>\n",
       "    </tr>\n",
       "    <tr>\n",
       "      <th>5571</th>\n",
       "      <td>ham</td>\n",
       "      <td>Rofl. Its true to its name</td>\n",
       "    </tr>\n",
       "  </tbody>\n",
       "</table>\n",
       "<p>5572 rows × 2 columns</p>\n",
       "</div>"
      ],
      "text/plain": [
       "     Category                                            Message\n",
       "0         ham  Go until jurong point, crazy.. Available only ...\n",
       "1         ham                      Ok lar... Joking wif u oni...\n",
       "2        spam  Free entry in 2 a wkly comp to win FA Cup fina...\n",
       "3         ham  U dun say so early hor... U c already then say...\n",
       "4         ham  Nah I don't think he goes to usf, he lives aro...\n",
       "...       ...                                                ...\n",
       "5567     spam  This is the 2nd time we have tried 2 contact u...\n",
       "5568      ham               Will ü b going to esplanade fr home?\n",
       "5569      ham  Pity, * was in mood for that. So...any other s...\n",
       "5570      ham  The guy did some bitching but I acted like i'd...\n",
       "5571      ham                         Rofl. Its true to its name\n",
       "\n",
       "[5572 rows x 2 columns]"
      ]
     },
     "execution_count": 3,
     "metadata": {},
     "output_type": "execute_result"
    }
   ],
   "source": [
    "df = pd.read_csv('dataset_spam.csv')\n",
    "df"
   ]
  },
  {
   "cell_type": "code",
   "execution_count": 4,
   "id": "0be90d3b",
   "metadata": {},
   "outputs": [
    {
     "data": {
      "text/plain": [
       "(5572, 2)"
      ]
     },
     "execution_count": 4,
     "metadata": {},
     "output_type": "execute_result"
    }
   ],
   "source": [
    "df.shape"
   ]
  },
  {
   "cell_type": "markdown",
   "id": "0b1a038c",
   "metadata": {},
   "source": [
    "The entire dataset contains 5572 messages with an assigned spam or ham class. "
   ]
  },
  {
   "cell_type": "code",
   "execution_count": 5,
   "id": "605b9867",
   "metadata": {},
   "outputs": [
    {
     "data": {
      "text/html": [
       "<div>\n",
       "<style scoped>\n",
       "    .dataframe tbody tr th:only-of-type {\n",
       "        vertical-align: middle;\n",
       "    }\n",
       "\n",
       "    .dataframe tbody tr th {\n",
       "        vertical-align: top;\n",
       "    }\n",
       "\n",
       "    .dataframe thead th {\n",
       "        text-align: right;\n",
       "    }\n",
       "</style>\n",
       "<table border=\"1\" class=\"dataframe\">\n",
       "  <thead>\n",
       "    <tr style=\"text-align: right;\">\n",
       "      <th></th>\n",
       "      <th>Category</th>\n",
       "      <th>Message</th>\n",
       "    </tr>\n",
       "  </thead>\n",
       "  <tbody>\n",
       "    <tr>\n",
       "      <th>count</th>\n",
       "      <td>5572</td>\n",
       "      <td>5572</td>\n",
       "    </tr>\n",
       "    <tr>\n",
       "      <th>unique</th>\n",
       "      <td>2</td>\n",
       "      <td>5157</td>\n",
       "    </tr>\n",
       "    <tr>\n",
       "      <th>top</th>\n",
       "      <td>ham</td>\n",
       "      <td>Sorry, I'll call later</td>\n",
       "    </tr>\n",
       "    <tr>\n",
       "      <th>freq</th>\n",
       "      <td>4825</td>\n",
       "      <td>30</td>\n",
       "    </tr>\n",
       "  </tbody>\n",
       "</table>\n",
       "</div>"
      ],
      "text/plain": [
       "       Category                 Message\n",
       "count      5572                    5572\n",
       "unique        2                    5157\n",
       "top         ham  Sorry, I'll call later\n",
       "freq       4825                      30"
      ]
     },
     "execution_count": 5,
     "metadata": {},
     "output_type": "execute_result"
    }
   ],
   "source": [
    "df.describe(include='object')"
   ]
  },
  {
   "cell_type": "markdown",
   "id": "8e5da9a9",
   "metadata": {},
   "source": [
    "# Checking if any duplicate records are present"
   ]
  },
  {
   "cell_type": "code",
   "execution_count": 6,
   "id": "8df3af4f",
   "metadata": {},
   "outputs": [
    {
     "data": {
      "text/html": [
       "<div>\n",
       "<style scoped>\n",
       "    .dataframe tbody tr th:only-of-type {\n",
       "        vertical-align: middle;\n",
       "    }\n",
       "\n",
       "    .dataframe tbody tr th {\n",
       "        vertical-align: top;\n",
       "    }\n",
       "\n",
       "    .dataframe thead th {\n",
       "        text-align: right;\n",
       "    }\n",
       "</style>\n",
       "<table border=\"1\" class=\"dataframe\">\n",
       "  <thead>\n",
       "    <tr style=\"text-align: right;\">\n",
       "      <th></th>\n",
       "      <th>Category</th>\n",
       "      <th>Message</th>\n",
       "    </tr>\n",
       "  </thead>\n",
       "  <tbody>\n",
       "    <tr>\n",
       "      <th>103</th>\n",
       "      <td>ham</td>\n",
       "      <td>As per your request 'Melle Melle (Oru Minnamin...</td>\n",
       "    </tr>\n",
       "    <tr>\n",
       "      <th>154</th>\n",
       "      <td>ham</td>\n",
       "      <td>As per your request 'Melle Melle (Oru Minnamin...</td>\n",
       "    </tr>\n",
       "    <tr>\n",
       "      <th>207</th>\n",
       "      <td>ham</td>\n",
       "      <td>As I entered my cabin my PA said, '' Happy B'd...</td>\n",
       "    </tr>\n",
       "    <tr>\n",
       "      <th>223</th>\n",
       "      <td>ham</td>\n",
       "      <td>Sorry, I'll call later</td>\n",
       "    </tr>\n",
       "    <tr>\n",
       "      <th>326</th>\n",
       "      <td>ham</td>\n",
       "      <td>No calls..messages..missed calls</td>\n",
       "    </tr>\n",
       "    <tr>\n",
       "      <th>...</th>\n",
       "      <td>...</td>\n",
       "      <td>...</td>\n",
       "    </tr>\n",
       "    <tr>\n",
       "      <th>5524</th>\n",
       "      <td>spam</td>\n",
       "      <td>You are awarded a SiPix Digital Camera! call 0...</td>\n",
       "    </tr>\n",
       "    <tr>\n",
       "      <th>5535</th>\n",
       "      <td>ham</td>\n",
       "      <td>I know you are thinkin malaria. But relax, chi...</td>\n",
       "    </tr>\n",
       "    <tr>\n",
       "      <th>5539</th>\n",
       "      <td>ham</td>\n",
       "      <td>Just sleeping..and surfing</td>\n",
       "    </tr>\n",
       "    <tr>\n",
       "      <th>5553</th>\n",
       "      <td>ham</td>\n",
       "      <td>Hahaha..use your brain dear</td>\n",
       "    </tr>\n",
       "    <tr>\n",
       "      <th>5558</th>\n",
       "      <td>ham</td>\n",
       "      <td>Sorry, I'll call later</td>\n",
       "    </tr>\n",
       "  </tbody>\n",
       "</table>\n",
       "<p>415 rows × 2 columns</p>\n",
       "</div>"
      ],
      "text/plain": [
       "     Category                                            Message\n",
       "103       ham  As per your request 'Melle Melle (Oru Minnamin...\n",
       "154       ham  As per your request 'Melle Melle (Oru Minnamin...\n",
       "207       ham  As I entered my cabin my PA said, '' Happy B'd...\n",
       "223       ham                             Sorry, I'll call later\n",
       "326       ham                   No calls..messages..missed calls\n",
       "...       ...                                                ...\n",
       "5524     spam  You are awarded a SiPix Digital Camera! call 0...\n",
       "5535      ham  I know you are thinkin malaria. But relax, chi...\n",
       "5539      ham                         Just sleeping..and surfing\n",
       "5553      ham                        Hahaha..use your brain dear\n",
       "5558      ham                             Sorry, I'll call later\n",
       "\n",
       "[415 rows x 2 columns]"
      ]
     },
     "execution_count": 6,
     "metadata": {},
     "output_type": "execute_result"
    }
   ],
   "source": [
    "duplicate=df[df.duplicated()] \n",
    "duplicate"
   ]
  },
  {
   "cell_type": "code",
   "execution_count": 7,
   "id": "703bc3e5",
   "metadata": {},
   "outputs": [],
   "source": [
    "df.drop_duplicates(inplace=True)"
   ]
  },
  {
   "cell_type": "code",
   "execution_count": 8,
   "id": "b1ba8eb4",
   "metadata": {},
   "outputs": [
    {
     "data": {
      "text/html": [
       "<div>\n",
       "<style scoped>\n",
       "    .dataframe tbody tr th:only-of-type {\n",
       "        vertical-align: middle;\n",
       "    }\n",
       "\n",
       "    .dataframe tbody tr th {\n",
       "        vertical-align: top;\n",
       "    }\n",
       "\n",
       "    .dataframe thead th {\n",
       "        text-align: right;\n",
       "    }\n",
       "</style>\n",
       "<table border=\"1\" class=\"dataframe\">\n",
       "  <thead>\n",
       "    <tr style=\"text-align: right;\">\n",
       "      <th></th>\n",
       "      <th>Category</th>\n",
       "      <th>Message</th>\n",
       "    </tr>\n",
       "  </thead>\n",
       "  <tbody>\n",
       "  </tbody>\n",
       "</table>\n",
       "</div>"
      ],
      "text/plain": [
       "Empty DataFrame\n",
       "Columns: [Category, Message]\n",
       "Index: []"
      ]
     },
     "execution_count": 8,
     "metadata": {},
     "output_type": "execute_result"
    }
   ],
   "source": [
    "duplicate = df[df.duplicated()] \n",
    "duplicate"
   ]
  },
  {
   "cell_type": "code",
   "execution_count": 9,
   "id": "d3b01b01",
   "metadata": {},
   "outputs": [
    {
     "data": {
      "text/html": [
       "<div>\n",
       "<style scoped>\n",
       "    .dataframe tbody tr th:only-of-type {\n",
       "        vertical-align: middle;\n",
       "    }\n",
       "\n",
       "    .dataframe tbody tr th {\n",
       "        vertical-align: top;\n",
       "    }\n",
       "\n",
       "    .dataframe thead th {\n",
       "        text-align: right;\n",
       "    }\n",
       "</style>\n",
       "<table border=\"1\" class=\"dataframe\">\n",
       "  <thead>\n",
       "    <tr style=\"text-align: right;\">\n",
       "      <th></th>\n",
       "      <th>Category</th>\n",
       "      <th>Message</th>\n",
       "    </tr>\n",
       "  </thead>\n",
       "  <tbody>\n",
       "    <tr>\n",
       "      <th>count</th>\n",
       "      <td>5157</td>\n",
       "      <td>5157</td>\n",
       "    </tr>\n",
       "    <tr>\n",
       "      <th>unique</th>\n",
       "      <td>2</td>\n",
       "      <td>5157</td>\n",
       "    </tr>\n",
       "    <tr>\n",
       "      <th>top</th>\n",
       "      <td>ham</td>\n",
       "      <td>Go until jurong point, crazy.. Available only ...</td>\n",
       "    </tr>\n",
       "    <tr>\n",
       "      <th>freq</th>\n",
       "      <td>4516</td>\n",
       "      <td>1</td>\n",
       "    </tr>\n",
       "  </tbody>\n",
       "</table>\n",
       "</div>"
      ],
      "text/plain": [
       "       Category                                            Message\n",
       "count      5157                                               5157\n",
       "unique        2                                               5157\n",
       "top         ham  Go until jurong point, crazy.. Available only ...\n",
       "freq       4516                                                  1"
      ]
     },
     "execution_count": 9,
     "metadata": {},
     "output_type": "execute_result"
    }
   ],
   "source": [
    "df.describe(include='object')"
   ]
  },
  {
   "cell_type": "code",
   "execution_count": 10,
   "id": "976c3c87",
   "metadata": {},
   "outputs": [
    {
     "data": {
      "text/plain": [
       "(5157, 2)"
      ]
     },
     "execution_count": 10,
     "metadata": {},
     "output_type": "execute_result"
    }
   ],
   "source": [
    "df.shape"
   ]
  },
  {
   "cell_type": "code",
   "execution_count": 11,
   "id": "cf9cbc9b",
   "metadata": {},
   "outputs": [
    {
     "data": {
      "text/plain": [
       "Category    0\n",
       "Message     0\n",
       "dtype: int64"
      ]
     },
     "execution_count": 11,
     "metadata": {},
     "output_type": "execute_result"
    }
   ],
   "source": [
    "df.isnull().sum()"
   ]
  },
  {
   "cell_type": "code",
   "execution_count": 12,
   "id": "c4729b98",
   "metadata": {},
   "outputs": [
    {
     "data": {
      "image/png": "[encoded data removed]",
      "text/plain": [
       "<Figure size 1080x720 with 1 Axes>"
      ]
     },
     "metadata": {
      "needs_background": "light"
     },
     "output_type": "display_data"
    }
   ],
   "source": [
    "plt.figure(figsize=(15,10))\n",
    "g =sns.countplot(x=df['Category'])\n",
    "plt.title('Number of objects in both classes', size=13)\n",
    "plt.ylabel('Number of objects', size =12)\n",
    "plt.xlabel('Category', size=12)\n",
    "plt.show()"
   ]
  },
  {
   "cell_type": "markdown",
   "id": "b2bd3a10",
   "metadata": {},
   "source": [
    "As we can see in this dataset there is a strong disproportion of objects in classes"
   ]
  },
  {
   "cell_type": "markdown",
   "id": "90b6b8ad",
   "metadata": {},
   "source": [
    "# Expand contractions"
   ]
  },
  {
   "cell_type": "code",
   "execution_count": 13,
   "id": "a0410e2b",
   "metadata": {},
   "outputs": [
    {
     "data": {
      "text/html": [
       "<div>\n",
       "<style scoped>\n",
       "    .dataframe tbody tr th:only-of-type {\n",
       "        vertical-align: middle;\n",
       "    }\n",
       "\n",
       "    .dataframe tbody tr th {\n",
       "        vertical-align: top;\n",
       "    }\n",
       "\n",
       "    .dataframe thead th {\n",
       "        text-align: right;\n",
       "    }\n",
       "</style>\n",
       "<table border=\"1\" class=\"dataframe\">\n",
       "  <thead>\n",
       "    <tr style=\"text-align: right;\">\n",
       "      <th></th>\n",
       "      <th>Category</th>\n",
       "      <th>Message</th>\n",
       "    </tr>\n",
       "  </thead>\n",
       "  <tbody>\n",
       "    <tr>\n",
       "      <th>0</th>\n",
       "      <td>ham</td>\n",
       "      <td>Go until jurong point, crazy.. Available only ...</td>\n",
       "    </tr>\n",
       "    <tr>\n",
       "      <th>1</th>\n",
       "      <td>ham</td>\n",
       "      <td>Ok lar... Joking wif u oni...</td>\n",
       "    </tr>\n",
       "    <tr>\n",
       "      <th>2</th>\n",
       "      <td>spam</td>\n",
       "      <td>Free entry in 2 a wkly comp to win FA Cup fina...</td>\n",
       "    </tr>\n",
       "    <tr>\n",
       "      <th>3</th>\n",
       "      <td>ham</td>\n",
       "      <td>U dun say so early hor... U c already then say...</td>\n",
       "    </tr>\n",
       "    <tr>\n",
       "      <th>4</th>\n",
       "      <td>ham</td>\n",
       "      <td>Nah I do not think he goes to usf, he lives ar...</td>\n",
       "    </tr>\n",
       "  </tbody>\n",
       "</table>\n",
       "</div>"
      ],
      "text/plain": [
       "  Category                                            Message\n",
       "0      ham  Go until jurong point, crazy.. Available only ...\n",
       "1      ham                      Ok lar... Joking wif u oni...\n",
       "2     spam  Free entry in 2 a wkly comp to win FA Cup fina...\n",
       "3      ham  U dun say so early hor... U c already then say...\n",
       "4      ham  Nah I do not think he goes to usf, he lives ar..."
      ]
     },
     "execution_count": 13,
     "metadata": {},
     "output_type": "execute_result"
    }
   ],
   "source": [
    "contractions_dict = { \"ain't\": \"are not\",\"'s\":\" is\",\"aren't\": \"are not\",\n",
    "                     \"can't\": \"cannot\",\"can't've\": \"cannot have\",\n",
    "                     \"'cause\": \"because\",\"could've\": \"could have\",\"couldn't\": \"could not\",\n",
    "                     \"couldn't've\": \"could not have\", \"didn't\": \"did not\",\"doesn't\": \"does not\",\n",
    "                     \"don't\": \"do not\",\"hadn't\": \"had not\",\"hadn't've\": \"had not have\",\n",
    "                     \"hasn't\": \"has not\",\"haven't\": \"have not\",\"he'd\": \"he would\",\n",
    "                     \"he'd've\": \"he would have\",\"he'll\": \"he will\", \"he'll've\": \"he will have\",\n",
    "                     \"how'd\": \"how did\",\"how'd'y\": \"how do you\",\"how'll\": \"how will\",\n",
    "                     \"I'd\": \"I would\", \"I'd've\": \"I would have\",\"I'll\": \"I will\",\n",
    "                     \"I'll've\": \"I will have\",\"I'm\": \"I am\",\"I've\": \"I have\", \"isn't\": \"is not\",\n",
    "                     \"it'd\": \"it would\",\"it'd've\": \"it would have\",\"it'll\": \"it will\",\n",
    "                     \"it'll've\": \"it will have\", \"let's\": \"let us\",\"ma'am\": \"madam\",\n",
    "                     \"mayn't\": \"may not\",\"might've\": \"might have\",\"mightn't\": \"might not\", \n",
    "                     \"mightn't've\": \"might not have\",\"must've\": \"must have\",\"mustn't\": \"must not\",\n",
    "                     \"mustn't've\": \"must not have\", \"needn't\": \"need not\",\n",
    "                     \"needn't've\": \"need not have\",\"o'clock\": \"of the clock\",\"oughtn't\": \"ought not\",\n",
    "                     \"oughtn't've\": \"ought not have\",\"shan't\": \"shall not\",\"sha'n't\": \"shall not\",\n",
    "                     \"shan't've\": \"shall not have\",\"she'd\": \"she would\",\"she'd've\": \"she would have\",\n",
    "                     \"she'll\": \"she will\", \"she'll've\": \"she will have\",\"should've\": \"should have\",\n",
    "                     \"shouldn't\": \"should not\", \"shouldn't've\": \"should not have\",\"so've\": \"so have\",\n",
    "                     \"that'd\": \"that would\",\"that'd've\": \"that would have\", \"there'd\": \"there would\",\n",
    "                     \"there'd've\": \"there would have\", \"they'd\": \"they would\",\n",
    "                     \"they'd've\": \"they would have\",\"they'll\": \"they will\",\n",
    "                     \"they'll've\": \"they will have\", \"they're\": \"they are\",\"they've\": \"they have\",\n",
    "                     \"to've\": \"to have\",\"wasn't\": \"was not\",\"we'd\": \"we would\",\n",
    "                     \"we'd've\": \"we would have\",\"we'll\": \"we will\",\"we'll've\": \"we will have\",\n",
    "                     \"we're\": \"we are\",\"we've\": \"we have\", \"weren't\": \"were not\",\"what'll\": \"what will\",\n",
    "                     \"what'll've\": \"what will have\",\"what're\": \"what are\", \"what've\": \"what have\",\n",
    "                     \"when've\": \"when have\",\"where'd\": \"where did\", \"where've\": \"where have\",\n",
    "                     \"who'll\": \"who will\",\"who'll've\": \"who will have\",\"who've\": \"who have\",\n",
    "                     \"why've\": \"why have\",\"will've\": \"will have\",\"won't\": \"will not\",\n",
    "                     \"won't've\": \"will not have\", \"would've\": \"would have\",\"wouldn't\": \"would not\",\n",
    "                     \"wouldn't've\": \"would not have\",\"y'all\": \"you all\", \"y'all'd\": \"you all would\",\n",
    "                     \"y'all'd've\": \"you all would have\",\"y'all're\": \"you all are\",\n",
    "                     \"y'all've\": \"you all have\", \"you'd\": \"you would\",\"you'd've\": \"you would have\",\n",
    "                     \"you'll\": \"you will\",\"you'll've\": \"you will have\", \"you're\": \"you are\",\n",
    "                     \"you've\": \"you have\"}\n",
    "\n",
    "contractions_re = re.compile('(%s)' % '|'.join(contractions_dict.keys()))#create pattern for regex\n",
    "def expand_contractions(s, contractions_dict=contractions_dict):# as input we provide each message and whole contractions_dict\n",
    "    def replace(match):\n",
    "        return contractions_dict[match.group(0)]\n",
    "    return contractions_re.sub(replace, s)\n",
    "df['Message'] = df['Message'].apply(lambda x:expand_contractions(x))\n",
    "df.head()"
   ]
  },
  {
   "cell_type": "code",
   "execution_count": 14,
   "id": "61584e10",
   "metadata": {},
   "outputs": [],
   "source": [
    "df['Message'] = df['Message'].apply(lambda x:x.lower())"
   ]
  },
  {
   "cell_type": "code",
   "execution_count": 15,
   "id": "2c4e9fd7",
   "metadata": {},
   "outputs": [],
   "source": [
    "# Removing digits and words containing digits\n",
    "\n",
    "df['Message'] = df['Message'].apply(lambda x: re.sub('\\w*\\d\\w*','', x))"
   ]
  },
  {
   "cell_type": "code",
   "execution_count": 16,
   "id": "5d7f9282",
   "metadata": {},
   "outputs": [],
   "source": [
    "# Removing punctuations\n",
    "\n",
    "df['Message'] = df['Message'].apply(lambda x: re.sub(r'[^\\w\\s]', '', x))"
   ]
  },
  {
   "cell_type": "code",
   "execution_count": 17,
   "id": "9ba5028f",
   "metadata": {},
   "outputs": [],
   "source": [
    "# removing extra \n",
    "df['Message']=df['Message'].apply(lambda x: re.sub(' +',' ',x))"
   ]
  },
  {
   "cell_type": "code",
   "execution_count": 18,
   "id": "cdce63fd",
   "metadata": {},
   "outputs": [
    {
     "data": {
      "text/html": [
       "<div>\n",
       "<style scoped>\n",
       "    .dataframe tbody tr th:only-of-type {\n",
       "        vertical-align: middle;\n",
       "    }\n",
       "\n",
       "    .dataframe tbody tr th {\n",
       "        vertical-align: top;\n",
       "    }\n",
       "\n",
       "    .dataframe thead th {\n",
       "        text-align: right;\n",
       "    }\n",
       "</style>\n",
       "<table border=\"1\" class=\"dataframe\">\n",
       "  <thead>\n",
       "    <tr style=\"text-align: right;\">\n",
       "      <th></th>\n",
       "      <th>Category</th>\n",
       "      <th>Message</th>\n",
       "    </tr>\n",
       "  </thead>\n",
       "  <tbody>\n",
       "    <tr>\n",
       "      <th>0</th>\n",
       "      <td>ham</td>\n",
       "      <td>go until jurong point crazy available only in ...</td>\n",
       "    </tr>\n",
       "    <tr>\n",
       "      <th>1</th>\n",
       "      <td>ham</td>\n",
       "      <td>ok lar joking wif u oni</td>\n",
       "    </tr>\n",
       "    <tr>\n",
       "      <th>2</th>\n",
       "      <td>spam</td>\n",
       "      <td>free entry in a wkly comp to win fa cup final ...</td>\n",
       "    </tr>\n",
       "    <tr>\n",
       "      <th>3</th>\n",
       "      <td>ham</td>\n",
       "      <td>u dun say so early hor u c already then say</td>\n",
       "    </tr>\n",
       "    <tr>\n",
       "      <th>4</th>\n",
       "      <td>ham</td>\n",
       "      <td>nah i do not think he goes to usf he lives aro...</td>\n",
       "    </tr>\n",
       "    <tr>\n",
       "      <th>...</th>\n",
       "      <td>...</td>\n",
       "      <td>...</td>\n",
       "    </tr>\n",
       "    <tr>\n",
       "      <th>5567</th>\n",
       "      <td>spam</td>\n",
       "      <td>this is the time we have tried contact u u hav...</td>\n",
       "    </tr>\n",
       "    <tr>\n",
       "      <th>5568</th>\n",
       "      <td>ham</td>\n",
       "      <td>will ü b going to esplanade fr home</td>\n",
       "    </tr>\n",
       "    <tr>\n",
       "      <th>5569</th>\n",
       "      <td>ham</td>\n",
       "      <td>pity was in mood for that soany other suggestions</td>\n",
       "    </tr>\n",
       "    <tr>\n",
       "      <th>5570</th>\n",
       "      <td>ham</td>\n",
       "      <td>the guy did some bitching but i acted like id ...</td>\n",
       "    </tr>\n",
       "    <tr>\n",
       "      <th>5571</th>\n",
       "      <td>ham</td>\n",
       "      <td>rofl its true to its name</td>\n",
       "    </tr>\n",
       "  </tbody>\n",
       "</table>\n",
       "<p>5157 rows × 2 columns</p>\n",
       "</div>"
      ],
      "text/plain": [
       "     Category                                            Message\n",
       "0         ham  go until jurong point crazy available only in ...\n",
       "1         ham                            ok lar joking wif u oni\n",
       "2        spam  free entry in a wkly comp to win fa cup final ...\n",
       "3         ham        u dun say so early hor u c already then say\n",
       "4         ham  nah i do not think he goes to usf he lives aro...\n",
       "...       ...                                                ...\n",
       "5567     spam  this is the time we have tried contact u u hav...\n",
       "5568      ham                will ü b going to esplanade fr home\n",
       "5569      ham  pity was in mood for that soany other suggestions\n",
       "5570      ham  the guy did some bitching but i acted like id ...\n",
       "5571      ham                          rofl its true to its name\n",
       "\n",
       "[5157 rows x 2 columns]"
      ]
     },
     "execution_count": 18,
     "metadata": {},
     "output_type": "execute_result"
    }
   ],
   "source": [
    "df"
   ]
  },
  {
   "cell_type": "code",
   "execution_count": 19,
   "id": "4429cc5e",
   "metadata": {},
   "outputs": [],
   "source": [
    "w_tokenizer = nltk.tokenize.WhitespaceTokenizer()\n",
    "lemmatizer = nltk.stem.WordNetLemmatizer()\n",
    "\n",
    "def lemmatize_text(text):\n",
    "    rev = [lemmatizer.lemmatize(w) for w in w_tokenizer.tokenize(text) if w not in stopwords.words('english')]\n",
    "    rev = ' '.join(rev)\n",
    "    return rev\n",
    "\n",
    "df['Message'] = df.Message.apply(lemmatize_text) #removinf stopworods like in, are, of, at, etc"
   ]
  },
  {
   "cell_type": "code",
   "execution_count": 20,
   "id": "fbab72b3",
   "metadata": {},
   "outputs": [],
   "source": [
    "# Creating text variable for ham\n",
    "\n",
    "df_ham = df[df.Category == 'ham']\n",
    "\n",
    "text_ham = \" \".join(text for text in df_ham['Message'])"
   ]
  },
  {
   "cell_type": "code",
   "execution_count": 21,
   "id": "31a3733e",
   "metadata": {},
   "outputs": [],
   "source": [
    "# Creating text variable for spam\n",
    "\n",
    "df_spam = df[df.Category == 'spam']\n",
    "\n",
    "text_spam = \" \".join(text for text in df_spam['Message'])"
   ]
  },
  {
   "cell_type": "code",
   "execution_count": 22,
   "id": "e17e615e",
   "metadata": {},
   "outputs": [
    {
     "data": {
      "image/png": "[encoded data removed]",
      "text/plain": [
       "<Figure size 432x288 with 1 Axes>"
      ]
     },
     "metadata": {
      "needs_background": "light"
     },
     "output_type": "display_data"
    }
   ],
   "source": [
    "# Creating wordcloud for ham\n",
    "\n",
    "ham_cloud = WordCloud(collocations = False, background_color = 'white').generate(text_ham)\n",
    "plt.imshow(ham_cloud, interpolation='bilinear')\n",
    "plt.axis(\"off\")\n",
    "plt.show()"
   ]
  },
  {
   "cell_type": "markdown",
   "id": "8586859d",
   "metadata": {},
   "source": [
    "u, go, know, come, good, got, ok, time, ur, need, call etc. are some of the most common words in ham messages. "
   ]
  },
  {
   "cell_type": "code",
   "execution_count": 23,
   "id": "dfe5f250",
   "metadata": {},
   "outputs": [
    {
     "data": {
      "image/png": "[encoded data removed]",
      "text/plain": [
       "<Figure size 432x288 with 1 Axes>"
      ]
     },
     "metadata": {
      "needs_background": "light"
     },
     "output_type": "display_data"
    }
   ],
   "source": [
    "# Creating wordcloud for spam\n",
    "spam_cloud = WordCloud(collocations = False, background_color = 'white').generate(text_spam)\n",
    "plt.imshow(spam_cloud, interpolation='bilinear')\n",
    "plt.axis(\"off\")\n",
    "plt.show()"
   ]
  },
  {
   "cell_type": "markdown",
   "id": "fcc84fd6",
   "metadata": {},
   "source": [
    "call, free, now, txt, reply, text, claim, prize, mobile, new, service, stop, etc. are some of the most common words in spam messages.\n"
   ]
  },
  {
   "cell_type": "markdown",
   "id": "1edd96bd",
   "metadata": {},
   "source": [
    "# NLP Methods to get to the root of dataset"
   ]
  },
  {
   "cell_type": "markdown",
   "id": "81e67279",
   "metadata": {},
   "source": [
    "## Tokenization "
   ]
  },
  {
   "cell_type": "markdown",
   "id": "3c6601e1",
   "metadata": {},
   "source": [
    "To begin with, we need to split each word in  sentence in a separate string. For this we can use the nltk library and the word_tokenize function"
   ]
  },
  {
   "cell_type": "code",
   "execution_count": 24,
   "id": "ec464f5d",
   "metadata": {},
   "outputs": [],
   "source": [
    "from nltk.tokenize import word_tokenize\n",
    "tokenized  = []\n",
    "for article in df.Message:\n",
    "    tokenized.append(word_tokenize(article))\n"
   ]
  },
  {
   "cell_type": "code",
   "execution_count": 25,
   "id": "4d7cc037",
   "metadata": {},
   "outputs": [
    {
     "data": {
      "text/plain": [
       "'go jurong point crazy available bugis n great world la e buffet cine got amore wat'"
      ]
     },
     "execution_count": 25,
     "metadata": {},
     "output_type": "execute_result"
    }
   ],
   "source": [
    "df.iloc[0,1]"
   ]
  },
  {
   "cell_type": "code",
   "execution_count": 26,
   "id": "ce5204d0",
   "metadata": {},
   "outputs": [
    {
     "data": {
      "text/plain": [
       "['go',\n",
       " 'jurong',\n",
       " 'point',\n",
       " 'crazy',\n",
       " 'available',\n",
       " 'bugis',\n",
       " 'n',\n",
       " 'great',\n",
       " 'world',\n",
       " 'la',\n",
       " 'e',\n",
       " 'buffet',\n",
       " 'cine',\n",
       " 'got',\n",
       " 'amore',\n",
       " 'wat']"
      ]
     },
     "execution_count": 26,
     "metadata": {},
     "output_type": "execute_result"
    }
   ],
   "source": [
    "tokenized[0]"
   ]
  },
  {
   "cell_type": "markdown",
   "id": "89b41abd",
   "metadata": {},
   "source": [
    "## Lemmatization"
   ]
  },
  {
   "cell_type": "markdown",
   "id": "00100a23",
   "metadata": {},
   "source": [
    "The next step is to replace the words with words without endings"
   ]
  },
  {
   "cell_type": "code",
   "execution_count": 27,
   "id": "2726b6a4",
   "metadata": {},
   "outputs": [
    {
     "name": "stdout",
     "output_type": "stream",
     "text": [
      "Root word for cats --> cat\n",
      "Root word for mice --> mice\n"
     ]
    }
   ],
   "source": [
    "from nltk.stem import PorterStemmer \n",
    "porter = PorterStemmer()\n",
    "print('Root word for cats -->', porter.stem('cats'))\n",
    "# print('Root word for cats -->', porter.stem('catss')) #wrong here\n",
    "print('Root word for mice -->', porter.stem('mice'))"
   ]
  },
  {
   "cell_type": "markdown",
   "id": "6772466f",
   "metadata": {},
   "source": [
    "Load english model of NLP from spacy library"
   ]
  },
  {
   "cell_type": "code",
   "execution_count": 28,
   "id": "4bc69eb9",
   "metadata": {},
   "outputs": [
    {
     "name": "stdout",
     "output_type": "stream",
     "text": [
      "Apple ---> Apple\n",
      "is ---> be\n",
      "looking ---> look\n",
      "at ---> at\n",
      "buying ---> buy\n",
      "U.K. ---> U.K.\n",
      "startup ---> startup\n",
      "for ---> for\n",
      "$ ---> $\n",
      "1 ---> 1\n",
      "billion ---> billion\n"
     ]
    }
   ],
   "source": [
    "import spacy \n",
    "nlp = spacy.load('en_core_web_sm')\n",
    "doc_exp = nlp(\"Apple is looking at buying U.K. startup for $1 billion\") \n",
    "for token in doc_exp:\n",
    "    print(token, '--->', token.lemma_)"
   ]
  },
  {
   "cell_type": "code",
   "execution_count": 29,
   "id": "5ef37027",
   "metadata": {},
   "outputs": [],
   "source": [
    "lemmatized = []\n",
    "for text in tokenized:\n",
    "    c=[]\n",
    "    for word in text:\n",
    "        doc = nlp(word)\n",
    "        for token in doc:\n",
    "            c.append(token.lemma_)\n",
    "    lemmatized.append(c)"
   ]
  },
  {
   "cell_type": "code",
   "execution_count": 30,
   "id": "f1ae3971",
   "metadata": {},
   "outputs": [
    {
     "data": {
      "text/plain": [
       "['go jurong point crazy available bugis n great world la e buffet cine get amore wat',\n",
       " 'ok lar joke wif u oni',\n",
       " 'free entry wkly comp win fa cup final tkts may text fa receive entry questionstd txt ratetc apply',\n",
       " 'u dun say early hor u c already say',\n",
       " 'nah think go usf life around though',\n",
       " 'freemsg hey darle week word back would like fun still tb ok xxx std chgs send rcv',\n",
       " 'even brother like speak treat like aid patent',\n",
       " 'per request melle melle oru minnaminunginte nurungu vettam set callertune caller press copy friend callertune',\n",
       " 'winner value network customer select receivea prize reward claim call claim code valid hour',\n",
       " 'mobile month u r entitle update late colour mobile camera free call mobile update co free',\n",
       " 'gon na home soon want talk stuff anymore tonight k cry enough today',\n",
       " 'six chance win cash pound txt send cost day tsandc apply reply hl info',\n",
       " 'urgent week free membership prize jackpot txt word claim tc wwwdbuknet lccltd pobox',\n",
       " 'search right word thank breather promise wo nt take help grant fulfil promise wonderful blessing time',\n",
       " 'date sunday',\n",
       " 'xxxmobilemovieclub use credit click wap link next txt message click httpwap xxxmobilemovieclubcomnqjkgighjjgcbl',\n",
       " 'oh kim watch',\n",
       " 'eh u remember spell name yes v naughty make v wet',\n",
       " 'fine that s way u feel that s way gota b',\n",
       " 'england v macedonia do nt miss goalsteam news txt ur national team eg england trywale scotland',\n",
       " 'seriously spell name',\n",
       " 'I m go try month ha ha joke',\n",
       " 'ü pay first lar da stock comin',\n",
       " 'aft finish lunch go str lor ard smth lor u finish ur lunch already',\n",
       " 'ffffffffff alright way meet soon',\n",
       " 'force eat slice really hungry tho suck mark get worried know sick turn pizza lol',\n",
       " 'lol always convince',\n",
       " 'catch bus fry egg make tea eat mom leave dinner feel love',\n",
       " 'back amp pack car let know room',\n",
       " 'ahhh work vaguely remember feel like lol',\n",
       " 'wait still clear sure sarcastic x want live u',\n",
       " 'yeah get v apologetic n fall actin like spoil child get catch till go badly cheer',\n",
       " 'k tell anything',\n",
       " 'fear faint housework quick cuppa',\n",
       " 'thank subscription ringtone uk mobile charge month please confirm reply yes reply charge',\n",
       " 'yup ok go home look time msg ü xuhui go learn may lesson',\n",
       " 'oop let know roommate do',\n",
       " 'see letter b car',\n",
       " 'anything lor u decide',\n",
       " 'hello saturday go texte see would decide anything tomo I m try invite anything',\n",
       " 'pls go ahead watt want sure great weekend abiola',\n",
       " 'forget tell want need crave love sweet arabian steed mmmmmm yummy',\n",
       " 'rodger burn msg try call reply sm free nokia mobile free camcorder please call delivery tomorrow',\n",
       " 'see',\n",
       " 'great hope like man well endow ltgt inch',\n",
       " 'callsmessagesmisse call',\n",
       " 'do nt get hep b immunisation nigeria',\n",
       " 'fair enough anything go',\n",
       " 'yeah hopefully tyler can not could maybe ask around bit',\n",
       " 'u know stubborn even want go hospital keep tell mark weak sucker hospital weak sucker',\n",
       " 'think first time see class',\n",
       " 'gram usually run like ltgt half eighth smart though get almost whole second gram ltgt',\n",
       " 'k fyi x ride early tomorrow morning crash place tonight',\n",
       " 'wow never realize embarasse accomodation think like since good could always seem happy cave sorry give sorry offer sorry room embarasse',\n",
       " 'sm ac sptv new jersey devil detroit red wing play ice hockey correct incorrect end reply end sptv',\n",
       " 'know mallika sherawat yesterday find lturlgt',\n",
       " 'congrat year special cinema pas call c suprman v etc free do nt miss',\n",
       " 'sorry call later meet',\n",
       " 'tell reach',\n",
       " 'yesgauti sehwag odi series',\n",
       " 'gon na pick burger way home can not even move pain kill',\n",
       " 'ha ha ha good joke girl situation seeker',\n",
       " 'part check iq',\n",
       " 'sorry roommate take forever ok come',\n",
       " 'ok lar double check wif da hair dresser already say wun cut v short say cut look nice',\n",
       " 'value customer please advise follow recent review mob award bonus prize call',\n",
       " 'today song dedicated day song u dedicate send ur valuable frnd first rply',\n",
       " 'urgent ur award complimentary trip eurodisinc trav aco claim txt dis morefrmmob shracomorsglsuplt',\n",
       " 'hear new divorce barbie come ken stuff',\n",
       " 'plane give month end',\n",
       " 'wah lucky man save money hee',\n",
       " 'finish class',\n",
       " 'hi babe I m home wan na something xx',\n",
       " 'kkwhere youhow perform',\n",
       " 'u call',\n",
       " 'wait machan call free',\n",
       " 'that s cool gentleman treat dignity respect',\n",
       " 'like people much shy pa',\n",
       " 'operate ltgt',\n",
       " 'still look job much ta earn',\n",
       " 'sorry call later',\n",
       " 'k call ah',\n",
       " 'ok way home hi hi',\n",
       " 'place man',\n",
       " 'yup next stop',\n",
       " 'call later network urgnt sm',\n",
       " 'real u get yo need ticket one jacket do already use multis',\n",
       " 'yes start send request make pain come back back bed double coin factory get ta cash nitro',\n",
       " 'really still tonight babe',\n",
       " 'ela kanoil download come wen ur free',\n",
       " 'yeah do nt stand close tho you ll catch something',\n",
       " 'sorry pain ok meet another night spend late afternoon casualty mean do include time sheet sorry',\n",
       " 'smile pleasure smile pain smile trouble pour like rain smile hurt u smile becoz someone still love see u smile',\n",
       " 'please call customer service representative guarantee cash prize',\n",
       " 'have nt plan buy later check already lido get show e afternoon u finish work already',\n",
       " 'free ringtone wait collect simply text password mix verify get usher britney fml po box',\n",
       " 'watch telugu moviewat abt u',\n",
       " 'see finish load loan pay',\n",
       " 'hi wk ok hol yes bit run forget hairdresser appointment four need get home n shower beforehand cause prob u',\n",
       " 'see cup coffee animation',\n",
       " 'please text anymore nothing else say',\n",
       " 'okay name ur price long legal wen pick u ave x be xx',\n",
       " 'still look car buy go drive test yet',\n",
       " 'wow you re right mean guess give boston man change search location nyc something change cuz signin page still say boston',\n",
       " 'umma life vava umma love lot dear',\n",
       " 'thank lot wish birthday thank make birthday truly memorable',\n",
       " 'aight hit get cash',\n",
       " 'would ip address test consider computer minecraft server',\n",
       " 'know grumpy old people mom like well lie always one play joke',\n",
       " 'do nt worry guess busy',\n",
       " 'plural noun research',\n",
       " 'go dinnermsg',\n",
       " 'ok wif co like try new thing scare u dun like mah co u say loud',\n",
       " 'gent try contact last weekend draw show prize guarantee call claim code valid',\n",
       " 'wa ur openin sentence formal anyway I m fine juz tt I m eatin much n puttin weighthaha anythin special happen',\n",
       " 'enter cabin pa say happy bday bo feel special askd lunch lunch invite apartment go',\n",
       " 'winner u specially select receive holiday flight inc speak live operator claim min',\n",
       " 'goodo yes must speak friday eggpotato ratio tortilla need',\n",
       " 'hmmmy uncle inform pay school directly pls buy food',\n",
       " 'private account statement show unredeemed bonus point claim call identifi code expire',\n",
       " 'urgent mobile award bonus caller prize final try contact u call landline',\n",
       " 'new address applespairsall malarky',\n",
       " 'today voda number end select receive award match please call quote claim code standard rate app',\n",
       " 'go sao mu today do',\n",
       " 'ü predict wat time üll finish buy',\n",
       " 'good stuff',\n",
       " 'knowyetunde send money yet send text bother send do nt involve anything impose anything first place apologise',\n",
       " 'room',\n",
       " 'hey girl r u hope u r well del r bak long time c give call sum time lucyxx',\n",
       " 'kkhow much cost',\n",
       " 'home',\n",
       " 'dear call tmorrowpls accomodate',\n",
       " 'first answer question',\n",
       " 'sunshine quiz wkly q win top sony dvd player u know country algarve txt ansr sptyrone',\n",
       " 'want get lay tonight want real dog location send direct ur mob join uk large dog network bt txte gravel nt msg',\n",
       " 'haf msn yijuehotmailcom',\n",
       " 'call meet',\n",
       " 'check room befor activity',\n",
       " 'you ll rcv msg chat svc free hardcore service text go u get nothing u must age verify yr network try',\n",
       " 'get c lazy type forget ü lect see pouch like v nice',\n",
       " 'k text way',\n",
       " 'sir wait mail',\n",
       " 'swt think nver get tired little thing lovable person cozsomtime little thing occupy big part heart gud',\n",
       " 'know pls open back',\n",
       " 'yes see ya dot',\n",
       " 'what s staff name take class u',\n",
       " 'freemsg reply text randy sexy female live local luv hear u netcollex ltd per msg reply stop end',\n",
       " 'ummmawill call check inour life begin qatar pls pray hard',\n",
       " 'ki delete contact',\n",
       " 'sindu get job birla soft',\n",
       " 'wine flow I m nevere',\n",
       " 'yup thk cine well co need go plaza mah',\n",
       " 'ok ur typical reply',\n",
       " 'everywhere dirt floor window even shirt sometimes open mouth come flow dream world without half chore time joy lot tv show ill see guess like thing must exist like rain hail mist time do become one',\n",
       " 'aaooooright work',\n",
       " 'leave house',\n",
       " 'hello love get interview today happy good boy think meare miss',\n",
       " 'customer service annoncement new year delivery wait please call arrange delivery',\n",
       " 'winner u specially select receive cash holiday flight inc speak live operator claim',\n",
       " 'keep safe need miss already envy everyone see real life',\n",
       " 'new car house parentsi new job hand',\n",
       " 'love excited day spend make happy',\n",
       " 'pls stop bootydelious f invite friend reply yes see wwwsmsacubootydelious stop send stop frnd',\n",
       " 'bangbabe ur order way u receive service msg download ur content u goto wap bangb tv ur mobile internetservice menu',\n",
       " 'place ur point e culture module already',\n",
       " 'urgent try contact last weekend draw show prize guarantee call claim code valid',\n",
       " 'hi frnd good way avoid missunderstde wit beloved one',\n",
       " 'great escape fancy bridge need lager see tomo',\n",
       " 'yes completely formclark also utter waste',\n",
       " 'sir need axis bank account bank address',\n",
       " 'hmmm thk sure get time hop ard ya go free abt muz call u discus liao',\n",
       " 'time come later',\n",
       " 'bloody hell ca nt believe forget surname mr ill give u clue spanish begin',\n",
       " 'well I m gon na finish bath goodfine night',\n",
       " 'let know get money carlos make call',\n",
       " 'u still go mall',\n",
       " 'turn friend stay whole show back til ltgt feel free go ahead smoke ltgt worth',\n",
       " 'text do nt reply let know log',\n",
       " 'hi speak maneesha v we d like know satisfied experience reply toll free yes',\n",
       " 'lift hope offer money need especially end month approach hurt study anyways weekend',\n",
       " 'lol u trust',\n",
       " 'ok gentleman treat dignity respect',\n",
       " 'guy close',\n",
       " 'go nothing greatbye',\n",
       " 'hello handsome find job lazy work towards get back net mummy boytoy miss',\n",
       " 'haha awesome minute',\n",
       " 'please call customer service representative freephone guarantee cash prize',\n",
       " 'get xmas radio time get',\n",
       " 'ju reach home go bathe first si use net tell u finish k',\n",
       " 'unique enough find august wwwareyouuniquecouk',\n",
       " 'sorry join league people do nt keep touch mean great deal friend time even great personal cost great week',\n",
       " 'hi finally complete course',\n",
       " 'stop however suggest stay someone able give or every stool',\n",
       " 'hope settle new school year wishin day',\n",
       " 'gud mrng dear hav nice day',\n",
       " 'u get person story',\n",
       " 'hamster dead hey tmr meet orchard mrt',\n",
       " 'hi kate evening hope see tomorrow bit bloody babyjontet txt back u xxx',\n",
       " 'find enc ltgt',\n",
       " 'send ltgt buck',\n",
       " 'hello darlin I ve finish college txt u finish u love kate xxx',\n",
       " 'account refill successfully inr ltdecimalgt keralacircle prepay account balance r ltdecimalgt transaction i d kr ltgt',\n",
       " 'goodmorne sleep ga',\n",
       " 'u call alter ok',\n",
       " 'ü say like dat dun buy ericsson oso can not oredi lar',\n",
       " 'aight yo dat straight dogg',\n",
       " 'please give u connection today ltdecimalgt refund bill',\n",
       " 'shoot big load get ready',\n",
       " 'bruv hope great break rewarding semester',\n",
       " 'home always chat',\n",
       " 'kkgoodstudy well',\n",
       " 'yup ü noe leh',\n",
       " 'sound great home',\n",
       " 'finally match head towards draw prediction',\n",
       " 'tired sleep well past night',\n",
       " 'easy ahsen get select mean good',\n",
       " 'take exam march',\n",
       " 'yeah think use gt atm register sure anyway help let know sure ready',\n",
       " 'ok prob take ur time',\n",
       " 'o call ubandu run without instal hard diskyou use o copy important file system give repair shop',\n",
       " 'u say leh course nothing happen lar say v romantic ju bit lor thk e nite scenery nice leh',\n",
       " 'new mobile must go txt nokia collect todayfrom wwwtcbiz',\n",
       " 'would really appreciate call need someone talk',\n",
       " 'u meet ur dream partner soon ur career flyng start find free txt horo follow ur star sign e g horo arie',\n",
       " 'hey company elama po mudyadhu',\n",
       " 'life strict teacher bcoz teacher teach lesson amp conduct exam life first conduct exam amp teach lesson happy morning',\n",
       " 'dear good morning',\n",
       " 'get gandhipuram walk cross cut road right side ltgt street road turn first right',\n",
       " 'dear go rubber place',\n",
       " 'sorry battery die yeah',\n",
       " 'yeshere tv always available work place',\n",
       " 'text meet someone sexy today u find date even flirt u join reply name age eg sam msg recdthirtyeight penny',\n",
       " 'print oh ltgt come upstairs',\n",
       " 'ill little close like bus stop street',\n",
       " 'youwhen wil reach',\n",
       " 'new theory argument win situation lose person do nt argue ur friend kick amp say always correct',\n",
       " 'u secret admirer look make contact ufind rreveal think ur specialcall',\n",
       " 'tomarrow final hear laptop case ca nt',\n",
       " 'pleassssssseeeeee tel v avent do sportsx',\n",
       " 'okay shine mean sign sound well',\n",
       " 'although tell u dat I m baig face watch really like e watch u give co fr u thanx everything dat uve do today I m touch',\n",
       " 'u remember old commercial',\n",
       " 'late say website do nt slipper',\n",
       " 'ask call ok',\n",
       " 'kallis wo nt bat inne',\n",
       " 'do nt work oh ok goodnight ill fix ready time wake dearly miss good night sleep',\n",
       " 'congratulation ur award cd voucher guarantee free entry wkly draw txt music tnc wwwldew',\n",
       " 'ranjith cal drpd deeraj deepak hold',\n",
       " 'wen ur lovable bcum angry wid u dnt take seriously coz angry childish n true way show deep affection care n luv kettoda manda nice day da',\n",
       " 'doinghow',\n",
       " 'up also ship company take way usp take week get lag may bribe nipost get stuff',\n",
       " 'back lem I know ready',\n",
       " 'do nt necessarily expect do get back though headin',\n",
       " 'mmm yummy babe nice jolt suzy',\n",
       " 'lover need',\n",
       " 'try contact reply offer video handset anytime network min unlimited text camcorder reply call',\n",
       " 'I m park next mini come today think',\n",
       " 'yup',\n",
       " 'anyway I m go shop co si do yet dun disturb u liao',\n",
       " 'luton ring ur around h',\n",
       " 'hey really horny want chat see naked text hot text charge unsubscribe text stop',\n",
       " 'dint come u',\n",
       " 'wana plan trip sometme',\n",
       " 'sure yet still try get hold',\n",
       " 'ur ringtone service change free credit go com choose content stop txt club stop wk po',\n",
       " 'evo download flash jealous',\n",
       " 'ringtone club get uk single chart mobile week choose top quality ringtone message free charge',\n",
       " 'come mu sort narcotic situation',\n",
       " 'night end another day morning come special way may smile like sunny ray leaf worry blue blue bay',\n",
       " 'hmv bonus special pound genuine hmv voucher answer easy question play send hmv infowwwrealcom',\n",
       " 'usf guess might well take car',\n",
       " 'objection bf come',\n",
       " 'thanx',\n",
       " 'tell rob mack gf theater',\n",
       " 'awesome see bit',\n",
       " 'send type food like',\n",
       " 'do hand celebration full swing yet',\n",
       " 'get call tool',\n",
       " 'wen u miss someone person definitely special u person special miss keepintouch gdeve',\n",
       " 'ok ask money far',\n",
       " 'okie',\n",
       " 'yeah think usual guy still pass last night get ahold anybody let know throw',\n",
       " 'k might come tonight class let early',\n",
       " 'ok',\n",
       " 'hi baby I m cruisin girl friend r u give call hour home that s alright fone fone love jenny xxx',\n",
       " 'life mean lot love life love people life world call friend call world ge',\n",
       " 'dearshall mail tonitebusy streetshall update tonitething look okvarunnathu edukkukayee raksha ollubut good one real sense',\n",
       " 'hey tell name gautham ah',\n",
       " 'haf u find feel stupid da v cam work',\n",
       " 'oop get bit',\n",
       " 'much buzy',\n",
       " 'accidentally delete message resend please',\n",
       " 'tmobile customer may claim free camera phone upgrade pay go sim card loyalty call offer end tc apply',\n",
       " 'unless situation go gurl would appropriate',\n",
       " 'hurt tease make cry end life die plz keep one rise grave say stupid miss u nice day bslvyl',\n",
       " 'ca nt pick phone right pls send message',\n",
       " 'need coffee run tomocant believe time week already',\n",
       " 'awesome remember last time get somebody high first time diesel v',\n",
       " 'shit really shocking scary ca nt imagine second def night u think somewhere could crash night save taxi',\n",
       " 'oh way food fridge want go meal tonight',\n",
       " 'womdarfull actor',\n",
       " 'sm ac blind date aberdeen united kingdom check httpimg sm acw blind date send hide',\n",
       " 'yup remb think book',\n",
       " 'jos ask u wana meet',\n",
       " 'lol yes friendship hang thread cause u buy stuff',\n",
       " 'themob check new selection content game tone gossip babe sport keep mobile fit funky text wap',\n",
       " 'garage key bookshelf',\n",
       " 'today accept dayu accept brother sister lover lvblefrnd jstfrnd cutefrnd lifpartnr belovd swtheart bstfrnd rply mean enemy',\n",
       " 'think ur smart win week weekly quiz text play nowtcs winnersclub po box week',\n",
       " 'say give call friend get money definitely buy end week',\n",
       " 'hi way u normal waythis real ur uniquei hope know u rest mylife hope u find wot lose',\n",
       " 'make day great day',\n",
       " 'kkadvance happy pongal',\n",
       " 'hmmm guess go kb n power yoga haha dunno tahan power yoga anot thk get lo oso forget liao',\n",
       " 'really dude friend I m afraid',\n",
       " 'december mobile entitle update late colour camera mobile free call mobile update co free',\n",
       " 'coffee cake guess',\n",
       " 'merry christmas babe love ya kiss',\n",
       " 'hey do nt go watch x man lunch haha',\n",
       " 'cud u tell ppl I m gona b bit co bus hav gon past co full I m still waitin pete x',\n",
       " 'would great well guild could meet bristol road somewhere get touch weekend plan take flight good week',\n",
       " 'problem',\n",
       " 'hi dahow today class',\n",
       " 'would say good sign well know track record read woman',\n",
       " 'cool text park',\n",
       " 'read text send mean joke read light',\n",
       " 'kkapo kgood movie',\n",
       " 'maybe could get book tomo return immediately something',\n",
       " 'call germany penny per minute call fix line via access number prepayment direct access',\n",
       " 'chance might evaporate soon violate privacy steal phone number employer paperwork cool please contact report supervisor',\n",
       " 'valentine day special win quiz take partner trip lifetime send go msg rcvd custcare',\n",
       " 'tadaaaaa home babe still',\n",
       " 'cool come have nt wine dine',\n",
       " 'sleepingand surf',\n",
       " 'u call right call hand phone',\n",
       " 'ok great thanx lot',\n",
       " 'take post come must text happy read one wiv hello caroline end favourite bless',\n",
       " 'u hide strange',\n",
       " 'interested like',\n",
       " 'sister clear two round birla soft yesterday',\n",
       " 'gudnitetcpractice go',\n",
       " 'dis yijue ju see ur mail case huime have nt send u num dis num',\n",
       " 'one small prestige problem',\n",
       " 'fancy shag dointereste sextextukcom txt xxuk suzy txt cost per msg tnc website x',\n",
       " 'check really miss see jeremiah great month',\n",
       " 'nah can not help never iphone',\n",
       " 'car hour half go apeshit',\n",
       " 'today sorry day ever angry ever misbehave hurt plz plz slap urself bcoz ur fault basically good',\n",
       " 'yo guy ever figure much need alcohol jay try figure much safely spend weed',\n",
       " 'ltgt ish minute minute ago wtf',\n",
       " 'thank callingforgot say happy onam sirjii fine remember meet insurance personmeet qatar insha allahrakhesh ex tata aig join tisscotayseer',\n",
       " 'ur cashbalance currently pound maximize ur cashin send cash msg cc hg row',\n",
       " 'actor work work evening sleep late since I m unemployed moment always sleep late unemployed every day saturday',\n",
       " 'hello get st andrewsboy long way cold keep post',\n",
       " 'ha ha cool cool chikku chikkudb',\n",
       " 'oh ok prob',\n",
       " 'check audrey status right',\n",
       " 'busy try finish new year look forward finally meet',\n",
       " 'good afternoon sunshine dawn day refresh happy alive breathe air smile think love always',\n",
       " 'well know z take care worry',\n",
       " 'update_now xmas offer late motorola sonyericsson nokia free bluetooth double min txt orange call',\n",
       " 'discount code stop message reply stop wwwregalportfoliocouk customer service',\n",
       " 'wat uniform get',\n",
       " 'cool text ready',\n",
       " 'hello boytoy geeee miss already wake wish bed cuddle love',\n",
       " 'spoil bed well',\n",
       " 'go bath msg next ltgt min',\n",
       " 'ca nt keep talk people sure pay agree price pls tell want really buy much willing pay',\n",
       " 'thank ringtone order reference charge gbp per week unsubscribe anytime call customer service',\n",
       " 'say happen',\n",
       " 'could see mei didt recognise face',\n",
       " 'well lot thing happen lindsay new year sigh bar ptbo blue heron something go',\n",
       " 'keep payasam rinu bring',\n",
       " 'teach ranjith sir call sm like becaus he verifying project prabu tell today pa do nt mistake',\n",
       " 'guess worried must know way body repair I m quite sure worry well take slow first test guide ovulation relax nothing say reason worry ill keep followin',\n",
       " 'yeah sure give couple minute track wallet',\n",
       " 'hey leave big deal take care',\n",
       " 'hey late ah meet',\n",
       " 'double min txt free bluetooth orange available sony nokia motorola phone call',\n",
       " 'take mr owl lick',\n",
       " 'customer place call',\n",
       " 'mm time do nt like fun',\n",
       " 'half price orange line rental late camera phone free phone call mobilesdirect free update',\n",
       " 'yup lunch buffet u eat already',\n",
       " 'huh late fr dinner',\n",
       " 'hey sit go intro pilate kickboxe',\n",
       " 'morning ok',\n",
       " 'yes think office lap room think that s last day do nt shut',\n",
       " 'pick bout time go',\n",
       " 'performance award calculate every two monthnot current one month period',\n",
       " 'actually sleep still might u call back text rock si send u text wen wake',\n",
       " 'always put business put picture as facebook one open people I ve ever meet would think picture room would hurt make feel violate',\n",
       " 'good evening sir al salam wahleykkumshare happy newsby grace god get offer tayseertissco joinedhope fineinshah allahmeet sometimerakheshvisitor india',\n",
       " 'hmmmkbut want change field quickly dai wan na get system administrator network administrator',\n",
       " 'free ringtone text first poly text get true tone help free tone end txt stop',\n",
       " 'dear chechi talk',\n",
       " 'hair cream ship',\n",
       " 'none happen til get though',\n",
       " 'yep great loxahatchee xmas tree burn ltgt start hour',\n",
       " 'haha get use drive usf man know lot stoner',\n",
       " 'well slightly disastrous class pm fav darle hope day ok coffee wld good can not stay late tomorrow time place always',\n",
       " 'hello good week fancy drink something later',\n",
       " 'headin towards busetop',\n",
       " 'messagesome text miss sendername miss number miss sentdate miss miss u lot that s everything miss send via fullonsmscom',\n",
       " 'come room point iron plan weekend',\n",
       " 'co want thing',\n",
       " 'okie go yan jiu skip ard oso go cine den go mrt one blah blah blah',\n",
       " 'bring home wendy',\n",
       " 'date service call',\n",
       " 'whatsup do nt u want sleep',\n",
       " 'alright new goal',\n",
       " 'free entry weekly competition text word win tc wwwtxttowincouk',\n",
       " 'alright head minute text meet',\n",
       " 'send logo ur lover name join heart txt love mobno eg love adam eve yahoo txtno ad',\n",
       " 'yesfrom last week I m take live call',\n",
       " 'someone contact date service enter phone fancy find call landline',\n",
       " 'siva hostel aha',\n",
       " 'urgent mobile number award prize guarantee call land line claim valid',\n",
       " 'send ur friend receive something ur voice speak expression childish naughty sentiment rowdy ful attitude romantic shy attractive funny ltgt irritate ltgt lovable reply',\n",
       " 'ok ok guess',\n",
       " 'aathiwhere dear',\n",
       " 'pain urination thing else',\n",
       " 'esplanade ü mind give lift co get car today',\n",
       " 'wnt buy bmw car urgentlyit vry urgentbut hv shortage ltgt lacsthere source arng dis amt ltgt lacsthat prob',\n",
       " 'home watch tv lor',\n",
       " 'usually take fifteen fucking minute respond yes question',\n",
       " 'congrat nokia video camera phone call call cost ave call vary mobile close post ldn',\n",
       " 'book ticket pongal',\n",
       " 'available like right around hillsborough amp ltgt th',\n",
       " 'message send askin ltgt dollar shoul pay ltgt ltgt',\n",
       " 'ask g iouri tell story like ten time already',\n",
       " 'long applebee fucking take',\n",
       " 'hi hope u get txtjourney have nt gdnow min late think',\n",
       " 'like love arrange',\n",
       " 'yeshe really greatbhaji tell kallis good cricketer sachin worldvery tough get',\n",
       " 'suppose wake gt',\n",
       " 'oic see tot din c find group liao',\n",
       " 'hey hey werethe monkeespeople say monkeyaround howdy gorgeous howu doin foundurself jobyet sausagelove jen xxx',\n",
       " 'sorry battery die come get gram place',\n",
       " 'well do blimey exercise yeah kinda remember wot hmm',\n",
       " 'wo nt get concentration dear know mind everything',\n",
       " 'lol make plan new year',\n",
       " 'min later k',\n",
       " 'hank lotsly',\n",
       " 'thank hope good day today',\n",
       " 'kkwhat detail want transferacc enough',\n",
       " 'ok tell stay yeah tough optimistic thing improve month',\n",
       " 'loan purpose homeowner tenant welcome previously refuse still help call free text back help',\n",
       " 'si si think ill go make oreo truffle',\n",
       " 'look amy ure beautiful intelligent woman like u lot know u do nt like like do nt worry',\n",
       " 'hope result consistently intelligent kind start ask practicum link keep ear open good ttyl',\n",
       " 'call cost guess be nt bad miss ya need ya want ya love ya',\n",
       " 'go thru different feelingwavere decision cope individualtime heal everything believe',\n",
       " 'u go phone gon na die stay',\n",
       " 'great never well day give even reason thank god',\n",
       " 'upgrdcentre orange customer may claim free camera phone upgrade loyalty call offer end july tc apply optout available',\n",
       " 'sorry call later ok bye',\n",
       " 'ok way railway',\n",
       " 'great princess love give receive oral doggy style fave position enjoy make love ltgt time per night',\n",
       " 'put stuff road keep get slippery',\n",
       " 'go ride bike',\n",
       " 'yup need ju wait e rain stop',\n",
       " 'many company tell language',\n",
       " 'okmail dear dave final notice collect tenerife holiday cash award call landline tc sae',\n",
       " 'long since scream princess',\n",
       " 'nothing mean money enter account bank remove flat rate someone transfer ltgt account ltgt dollar get remove bank differ charge also differbe sure trust person send account detail co',\n",
       " 'want get lay tonight want real dog location send direct ur mob join uk large dog network txte moan msg',\n",
       " 'nice line say break heart plz cum time infront wise trust u good',\n",
       " 'ok gon na head usf like fifteen minute',\n",
       " 'love aathilove u lot',\n",
       " 'tension ahwhat machiany problem',\n",
       " 'k pick another do',\n",
       " 'when re guy get back g say think stay mcr',\n",
       " 'almost see u sec',\n",
       " 'yo carlos friend already ask work weekend',\n",
       " 'watch tv lor',\n",
       " 'thank baby ca nt wait taste real thing',\n",
       " 'change fb jaykwon thuglyfe falconerf',\n",
       " 'win really side long time',\n",
       " 'free message activate free text message reply message word free term condition visit wwwcom',\n",
       " 'dear reach railway happen',\n",
       " 'depend quality want type send boye fade glory want ralph maybe',\n",
       " 'think I ve fix send test message',\n",
       " 'sorry man account dry would want could trade back half could buy shit credit card',\n",
       " 'sorryin meet call later',\n",
       " 'class ltgt reunion',\n",
       " 'free nowcan call',\n",
       " 'get meh',\n",
       " 'nope think go monday sorry reply late',\n",
       " 'tell accenture confirm true',\n",
       " 'kate jackson rec center right',\n",
       " 'dear reache room',\n",
       " 'fight world easy u either win lose bt fightng close u dificult u lose u lose u win u still lose',\n",
       " 'ü come',\n",
       " 'check nuerologist',\n",
       " 'lolnice go fish water',\n",
       " 'error',\n",
       " 'wait e car dat bore wat co wait outside get nothing home stuff watch tv wat',\n",
       " 'maybe westshore hyde park village place near house',\n",
       " 'know anthony bring money school fee pay rent stuff like that s need help friend need',\n",
       " 'significance',\n",
       " 'opinion jada kusruthi lovable silent spl character mature stylish simple pls reply',\n",
       " 'late g still scrounge ammo want give new ak try',\n",
       " 'prabhaim sorydarealyfrm heart I m sory',\n",
       " 'lol ok forgive',\n",
       " 'nojst change tat',\n",
       " 'guarantee late nokia phone ipod player prize txt word collect ibhltd',\n",
       " 'sno competition',\n",
       " 'boltblue tone reply poly mono eg cha cha slide yeah slow jamz toxic come stop tone txt',\n",
       " 'credit top httpwwwbubbletextcom renewal pin tgxxrz',\n",
       " 'way transport le problematic sit night way u want ask n join bday feel free need know definite no book fri',\n",
       " 'usually person unconscious child adult may behave abnormally ill call',\n",
       " 'ebay might le elsewhere',\n",
       " 'shall come get pickle',\n",
       " 'gon na go get taco',\n",
       " 'rude campus',\n",
       " 'urgent mobile award bonus caller prize attempt contact call',\n",
       " 'hi b ard christmas enjoy n merry xmas',\n",
       " 'today offer claim ur worth discount voucher text yes savamob member offer mobile c sub unsub reply x',\n",
       " 'yes pretty lady like single',\n",
       " 'recieve tone within next term condition please see channel u teletext pg',\n",
       " 'jay say doublefaggot',\n",
       " 'private account statement show unredeemed sim point call identifi code expire',\n",
       " 'todaysundaysunday holidayso work',\n",
       " 'late',\n",
       " 'call hope malaria know miss guy miss ban big pls give love especially great day',\n",
       " 'good afternoon love go day hope maybe get lead job think boytoy send passionate kiss across sea',\n",
       " 'probably gon na see later tonight lt',\n",
       " 'maybe fat finger press button know',\n",
       " 'ummmmmaah many many happy return day dear sweet heart happy birthday dear',\n",
       " 'tirupur da start office call',\n",
       " 'wwwapplausestorecom monthlysubscriptionmsg month tcsc web txt stop',\n",
       " 'famous quote develop ability listen anything unconditionally without lose temper self confidence mean marry',\n",
       " 'go college pa else ill come self pa',\n",
       " 'oclock mine bash flat plan',\n",
       " 'girl stay bed girl need recovery time i d rather pas fun coope bed',\n",
       " 'special',\n",
       " 'know need get hotel get invitation apologise cali sweet come english bloke weddin',\n",
       " 'sorry take long omw',\n",
       " 'wait ltgt min',\n",
       " 'ok give minute think see btw alibi cut hair whole time',\n",
       " 'imagine finally get sink bath put pace maybe even eat leave also imagine feel cage cock surround bath water remind always own enjoy cuck',\n",
       " 'hurry weeddeficient like three day',\n",
       " 'sure get acknowledgement astoundingly tactless generally faggy demand blood oath fo',\n",
       " 'ok every night take warm bath drink cup milk see work magic still need loose weight know',\n",
       " 'ill look fry pan case cheap book perhaps that s silly fry pan be nt likely book',\n",
       " 'well uv cause mutation sunscreen like essential theseday',\n",
       " 'lunchyou onlinewhy',\n",
       " 'know friend already tell',\n",
       " 'hi princess thank pic pretty',\n",
       " 'aiyo u always c ex one dunno abt mei reply first time u reply fast lucky workin huh get bao ur sugardad ahgee',\n",
       " 'hi msg meim office',\n",
       " 'thanx e brownie v nice',\n",
       " 'geeeee love much barely stand',\n",
       " 'fuck babe miss already know ca nt let send money towards net need want crave',\n",
       " 'ill call u ninish address icky american freek wo nt stop callin bad jen k eh',\n",
       " 'oooh bed ride ey think',\n",
       " 'anyways go gym whatever love smile hope ok good day babe miss much already',\n",
       " 'love daddy make scream pleasure go slap as dick',\n",
       " 'wot u wan na missy',\n",
       " 'yar lor wait mum finish sch lunch lor whole morning stay home clean room room quite clean hee',\n",
       " 'know lab goggle go',\n",
       " 'open door',\n",
       " 'wait call',\n",
       " 'nope wait sch daddy',\n",
       " 'cash prize claim',\n",
       " 'tired argue week week want ill',\n",
       " 'ü wait sch finish ard',\n",
       " 'mobile number claim call u back ring claim hot line',\n",
       " 'arngd marriage u r walkin unfortuntly snake bite u bt love marriage dance frnt snake amp sayin bite bite',\n",
       " 'huh early ü dinner outside izzit',\n",
       " 'ok anyway need change say',\n",
       " 'try contact reply offer min textand new video phone call reply free delivery tomorrow',\n",
       " 'exwife able kid want kid one day',\n",
       " 'scotland hope show jjc tendency take care live dream',\n",
       " 'tell u headache want use hour sick time',\n",
       " 'dun thk ill quit yet hmmm go jazz yogasana oso go meet em lesson den',\n",
       " 'pete please ring meive hardly gotany credit',\n",
       " 'ya srsly well yi tho',\n",
       " 'meet call later',\n",
       " 'ur chance win wkly shop spree txt shop isc wwwtxtshopcom custcare wk',\n",
       " 'specially select receive pound award call line close cost tc apply ag promo',\n",
       " 'private account statement show unredeemed point call identifi code expire',\n",
       " 'still grand prix',\n",
       " 'meet strange choose friend long world stand friendship never end let friend forever gud nitz',\n",
       " 'great',\n",
       " 'gud mrng dear nice day',\n",
       " 'important customer service announcement call freephone',\n",
       " 'exhaust train morning much wine pie sleep well',\n",
       " 'go buy mum present ar',\n",
       " 'mind blastin tsunami occur rajnikant stop swim indian oceand',\n",
       " 'u send home first ok lor ready yet',\n",
       " 'speak cash yet',\n",
       " 'happy come noon',\n",
       " 'meet lunch la',\n",
       " 'take care n get well soon',\n",
       " 'xclusiveclubsaisai soiree speciale zouk nichols parisfree rise lady info',\n",
       " 'mean say ca nt wait see u get bore bridgwater banter',\n",
       " 'neva mind ok',\n",
       " 'fine imma get drink somethin want come find',\n",
       " 'day kick u keep date late news result daily remove send get txt stop',\n",
       " 'valentine game send dis msg ur friend answer r someone really love u que colour suit bestrply',\n",
       " 'many dependent',\n",
       " 'today cer nice catch ave find time often oh well take care c u soonc',\n",
       " 'call say himthen choose future',\n",
       " 'happy valentine day know early hundred handsome beauty wish think finish aunty uncle',\n",
       " 'like v shock leh co tell shuhui like tell leona also like dat almost know liao get ask abt ur reaction lor',\n",
       " 'family happiness',\n",
       " 'come n pick ü come immediately aft ur lesson',\n",
       " 'let snow let snow kind weather bring ppl together friendship grow',\n",
       " 'dear get ltgt dollar hi hi',\n",
       " 'good word word may leave u dismay many time',\n",
       " 'make sure alex know birthday fifteen minute far you re concerned',\n",
       " 'sorry get thing may pub later',\n",
       " 'nah straight bring bud drink something actually little useful straight cash',\n",
       " 'haha good hear officially pay market',\n",
       " 'many lick take get center tootsie pop',\n",
       " 'yup thk r e teacher say make face look long darren ask cut short',\n",
       " 'new textbuddy chat horny guy ur area free receive search postcode gaytextbuddycom txt one name',\n",
       " 'today vodafone number end select receive award number match call receive award',\n",
       " 'please do nt say like hi hi hi',\n",
       " 'thank u',\n",
       " 'oh forward message think send',\n",
       " 'get seventeen pound seven hundred ml hope ok',\n",
       " 'dear voucher holder claim week offer pc go httpwwwetlpcoukexpressoffer tsc apply stop text txt stop',\n",
       " 'n funny',\n",
       " 'sweetheart hope kind day one load reason smile biola',\n",
       " 'ü login dat time dad fetch ü home',\n",
       " 'shower baby',\n",
       " 'askd u question hour answer',\n",
       " 'well imma definitely need restock thanksgive let know',\n",
       " 'say kiss kiss can not sound effect gorgeous man kind person need smile brighten day',\n",
       " 'probably gon na swing wee bit',\n",
       " 'ya nice ready thursday',\n",
       " 'allo brave bus take train triumph mean bham jolly good rest week',\n",
       " 'watch cartoon listen music amp eve go temple amp church u',\n",
       " 'mind ask happen do nt say uncomfortable',\n",
       " 'private account statement show unredeemed point call identifi code expire',\n",
       " 'prob send email',\n",
       " 'cash prize claim tc rstm',\n",
       " 'that s cool sometimes slow gentle sonetime rough hard',\n",
       " 'gon na say sorry would normal start panic time sorry see tuesday',\n",
       " 'wait know wesley town bet hella drug',\n",
       " 'fine miss much',\n",
       " 'tell drug dealer get impatient',\n",
       " 'sun ca nt come earth send luv ray cloud ca nt come river send luv rain ca nt come meet u send care msg u gud evng',\n",
       " 'do nt make sense take unless free need know wikipediacom',\n",
       " 'premium phone service call',\n",
       " 'sea lie rock rock envelope envelope paper paper word',\n",
       " 'mum repent',\n",
       " 'sorry go home first daddy come fetch ü later',\n",
       " 'leave de start prepare next',\n",
       " 'yes baby study position kama sutra',\n",
       " 'en chikku nange bakra msg kalstiyathen teacoffee',\n",
       " 'carlosll minute still need buy',\n",
       " 'pay ltdecimalgt lakh',\n",
       " 'good evening ttyl',\n",
       " 'u receive msg',\n",
       " 'ho ho big belly laugh see ya tomo',\n",
       " 'sm ac post helloyou seem cool want say hi hi stop send stop',\n",
       " 'get ur ringtone free reply msg tone top tone phone every week per wk opt send stop',\n",
       " 'ditto worry say anything anymore like say last night whatever want ill peace',\n",
       " 'get ltgt way could pick',\n",
       " 'do nt knw pa drink milk',\n",
       " 'maybe say hi find get card great escape wetherspoon',\n",
       " 'piggy r u awake bet ure still sleep go lunch',\n",
       " 'cause freaky lol',\n",
       " 'miss call cause yell scrappy miss u ca nt wait u come home lonely today',\n",
       " 'hex place talk explain',\n",
       " 'ü log wat',\n",
       " 'xy go e lunch',\n",
       " 'hi sue year old work lapdancer love sex text live bedroom text sue textoperator',\n",
       " 'want ask ü wait finish lect co lect finish hour anyway',\n",
       " 'finish work yet',\n",
       " 'every king cry baby every great build map imprtant u r today u wil reach tomorw gud',\n",
       " 'dearme cherthalain case u r come cochin pls call bfore u starti shall also reach accordinglyor tell day u r comingtmorow engage an holiday',\n",
       " 'thank love torch bold',\n",
       " 'forward please call immediately urgent message wait',\n",
       " 'farm open',\n",
       " 'sorry trouble u buy dad big small sit n sun thanx',\n",
       " 'sister law hope great month say hey abiola',\n",
       " 'purchase stuff today mail po box number',\n",
       " 'ah poop look like ill prob send laptop get fix cuz gpu problem',\n",
       " 'good good job like entrepreneur',\n",
       " 'aight close still around alex place',\n",
       " 'meet corporation st outside gap see mind work',\n",
       " 'mum ask ü buy food home',\n",
       " 'ku also do nt msg reply msg',\n",
       " 'much r ü willing pay',\n",
       " 'important prevent dehydration give enough fluid',\n",
       " 'that s bit weird even suppose happen good idea sure pub',\n",
       " 'true deari sit pray evening feel soso smsd time',\n",
       " 'think get away trek long family town sorry',\n",
       " 'wan na gym harri',\n",
       " 'quite late lar ard anyway wun b drivin',\n",
       " 'review keep fantastic nokia ngage game deck club nokia go wwwcnupdatescomnewsletter unsubscribe alert reply word',\n",
       " 'half price orange line rental late camera phone free phone call mobilesdirect free update tc',\n",
       " 'height confidence aeronautics professor wer calld amp wer askd sit aeroplane aftr sit wer tell dat plane w make student dey hurry plane bt do nt move saidif make studentsthis wo nt even start datz confidence',\n",
       " 'seem like weird time night g want come smoke day shitstorm attribute always come make everyone smoke',\n",
       " 'cost',\n",
       " 'save stress person dorm account send account detail money send',\n",
       " 'also know lunch menu da know',\n",
       " 'stuff sell ill tell',\n",
       " 'book lesson msg call work sth go get spec membership',\n",
       " 'guarantee cash prize claim yr prize call customer service representative',\n",
       " 'macha do nt feel upseti assume mindsetbelieve one evening wonderful plan uslet life begin againcall anytime',\n",
       " 'oh send address',\n",
       " 'sfine anytime good',\n",
       " 'wondar full flim',\n",
       " 'ya even cooky jelly',\n",
       " 'world run stillmaybe feel sameso itor admiti madthen correctionor let call lifeand keep run worldmay u r also runninglet run',\n",
       " 'get look scrumptious daddy want eat night long',\n",
       " 'co lar I m ba dao ok pm lor u never ask go ah say u would ask fri say u ask today',\n",
       " 'alright omw get ta change order',\n",
       " 'exactly anyways far jide study visit',\n",
       " 'dunno u ask',\n",
       " 'email alertfrom jeri stewartsize lowcost prescripiton drvgsto listen email call',\n",
       " 'spring come early yay',\n",
       " 'lol feel bad use money take steak dinner',\n",
       " 'even u do nt get trouble convincingjust tel twice tel neglect msg do nt c read itjust do nt reply',\n",
       " 'leave qatar tonite search opportunityall go fastpls add ur prayer dearrakhesh',\n",
       " 'one talk',\n",
       " 'thank look really appreciate',\n",
       " 'hi customer loyalty offerthe new mobile txtauction txt word start get ctxt tc mtmsg',\n",
       " 'wish',\n",
       " 'haha mayb ure rite u know well da feel like someone gd lor u fast go find one gal group attach liao',\n",
       " 'yes glad make',\n",
       " 'well little time thing good time ahead',\n",
       " 'get room soon put clock back til shout everyone get realise wahay another hour bed',\n",
       " 'ok may free gym',\n",
       " 'man like short lady gaze eye',\n",
       " 'dunno ju say go lido time',\n",
       " 'promise take good care princess run please send pic get chance ttyl',\n",
       " 'u subscribe good mobile content service uk per day send stop helpline',\n",
       " 'reason speak year anyways great week good exam',\n",
       " 'monday next week give full gist',\n",
       " 'realize year thousand old lady run around tattoo',\n",
       " 'important customer service announcement premier',\n",
       " 'do nt gim I lip caveboy',\n",
       " 'get library',\n",
       " 'realy sorryi recognise number confuse r u please',\n",
       " 'do nt holla',\n",
       " 'ca nt think anyone spare room top head',\n",
       " 'faith make thing possiblehope make thing worklove make thing beautifulmay three christmasmerry christmas',\n",
       " 'u make appointment',\n",
       " 'call youcarlo isare phone vibrate act might hear text',\n",
       " 'romantic paris night flight book next year call c apply',\n",
       " 'grandma oh dear u still ill feel shit morning think hungover another night leave sit',\n",
       " 'urgent ur guarantee award still unclaimed call claimcode',\n",
       " 'nothing ju tot u would ask co u ba gua go mt faber yest yest ju go already mah today go ju call lor',\n",
       " 'wish family merry x ma happy new year advance',\n",
       " 'ur award city break could win summer shop spree every wk txt store skilgme',\n",
       " 'nt goin get somethin unless meetin dinner lor haha wonder go ti time',\n",
       " 'lol know they re dramatic school already close tomorrow apparently can not drive inch snow suppose get',\n",
       " 'get anywhere damn job hunt',\n",
       " 'lol u drunkard hair moment yeah still tonight wat plan',\n",
       " 'idc get weasele way shit twice row',\n",
       " 'wil ltgt minute get space',\n",
       " 'thank pick trash',\n",
       " 'go tell friend sure want live smoke much spend hour beg come smoke',\n",
       " 'hi kate lovely see tonight ill phone tomorrow get sing guy give card xxx',\n",
       " 'happy new year dear brother really miss get number decide send text wish happiness abiola',\n",
       " 'mean get door',\n",
       " 'hmmm think say hour slave late punish',\n",
       " 'beerage',\n",
       " 'important customer service announcement premier call freephone',\n",
       " 'do nt think turn like randomlly within open',\n",
       " 'suppose could make still town though',\n",
       " 'time fix spell sometimes get completely diff word go figure',\n",
       " 'ever think live good life perfect partner txt back name age join mobile community sm',\n",
       " 'free top polyphonic tone call national rate get toppoly tune send every week text subpoly per pole unsub',\n",
       " 'hope enjoy game yesterday sorry I ve touch pls know fondly bein thot great week abiola',\n",
       " 'e good ur drive tmr',\n",
       " 'ywhere u dogbreath sound like jan c that s al',\n",
       " 'omg want scream weigh lose weight woohoo',\n",
       " 'generally one uncountable noun u dictionary piece research',\n",
       " 'really get hang around',\n",
       " 'orange customer may claim free camera phone upgrade loyalty call offer end tc apply optout availa',\n",
       " 'petey boy whereare friendsare thekingshead come canlove nic',\n",
       " 'ok msg u leave house',\n",
       " 'gim I ltgt minute ago',\n",
       " 'last chance claim ur worth discount voucher today text shop savamob offer mobile c savamob sub',\n",
       " 'appt lttimegt fault u listen tell u twice',\n",
       " 'free week nokia tone ur mobile every week txt nokia get txte tell ur mate wwwgetzedcouk pobox tone',\n",
       " 'guarantee award even cashto claim ur award call free stop getstop php',\n",
       " 'k',\n",
       " 'dle imp',\n",
       " 'sure make sure know smokin yet',\n",
       " 'boooo always work quit',\n",
       " 'take half day leave bec well',\n",
       " 'ugh wan na get bed warm',\n",
       " 'ssnervous ltgt',\n",
       " 'ring come guy costume gift future yowife hint hint',\n",
       " 'congratulation ur award either cd gift voucher free entry weekly draw txt music tnc wwwldew',\n",
       " 'borrow ur bag ok',\n",
       " 'u outbid shinco dvd plyr bid visit sm acsmsreward end bid notification reply end',\n",
       " 'boytoy miss happen',\n",
       " 'lot use one babe model help youi bring match',\n",
       " 'also bring galileo dobby',\n",
       " 'respond',\n",
       " 'boo babe u enjoyin yourjob u seem b gettin well hunnyhope ure oktake care illspeak soonlot loveme xxxx',\n",
       " 'good afternoon starshine boytoy crave yet ache fuck sip cappuccino miss babe teasing kiss',\n",
       " 'road ca nt txt',\n",
       " 'smsservice yourinclusive text credit pls goto wwwcomuknet login unsubscribe stop extra charge help comuk',\n",
       " 'alfie moon child need song ur mob tell ur txt tone charity nokia poly charity poly ze profit charity',\n",
       " 'hmm bit piece lol sigh',\n",
       " 'hahahause brain dear',\n",
       " 'hey get mail',\n",
       " 'sorry light turn green mean another friend want ltgt worth may around',\n",
       " 'thank yesterday sir wonderful hope enjoy burial mojibiola',\n",
       " 'u secret admirer reveal think u r special call opt reply reveal stop per msg recd cust care',\n",
       " 'hi mate rv u hav nice hol message say hello coz have nt send u age start drive stay roadsrvx',\n",
       " 'dear voucher holder claim week offer pc please go httpwwwetlpcoukexpressoffer tsc apply stop text txt stop',\n",
       " 'thank much skype wit kz sura do nt get pleasure company hope good we ve give ultimatum oh countin aburo enjoy message send day ago',\n",
       " 'surely result offer',\n",
       " 'good morning dear great amp successful day',\n",
       " 'want anytime network min text new video phone five pound per week call reply delivery tomorrow',\n",
       " 'sir late pay rent past month pay ltgt charge feel would inconsiderate nag something give great cost do nt speak however recession wo nt able pay charge month hence askin well ahead month end please help thank',\n",
       " 'try contact offer new video phone anytime network min half price rental camcorder call reply delivery we d',\n",
       " 'last chance claim ur worth discount voucherstext yes nowsavamobmember offer mobile c sub remove txt x stop',\n",
       " 'luv u soo much u do nt understand special u r ring u luv u xxx',\n",
       " 'pls send comprehensive mail I m pay much',\n",
       " 'prashanthettan mother pass away last night pray family',\n",
       " 'urgent call landline complimentary ibiza holiday cash await collection sae tc po box ppm',\n",
       " 'kkwhen go',\n",
       " 'meanwhile shit suite xavier decide give u ltgt second warn samantha come play jay guitar impress shit also think doug realize live anymore',\n",
       " 'stomach thru much trauma swear can not eat well lose weight',\n",
       " 'officewhat mattermsg nowi call break',\n",
       " 'yeah barely enough room two u x many fucking shoe sorry man see later',\n",
       " 'u reach orchard already u wan go buy ticket first',\n",
       " 'real baby want bring inner tigress',\n",
       " 'da run activate full version da',\n",
       " 'ah poor babyhope urfeele bettersn luv probthat overdose work hey go careful spk u sn lot lovejen xxx',\n",
       " 'stop story tell I ve return say order',\n",
       " 'talk sexy make new friend fall love world discreet text date service text vip see could meet',\n",
       " 'go take babe',\n",
       " 'hai ana tomarrow come morning ltdecimalgt ill sathy go rto office reply come home',\n",
       " 'spoon okay',\n",
       " 'say somebody name tampa',\n",
       " 'work go min',\n",
       " 'brother genius',\n",
       " 'sorry guess whenever get hold connection maybe hour two text',\n",
       " 'u find time bus coz need sort stuff',\n",
       " 'dude I ve see lotta corvette lately',\n",
       " 'congratulation ur award either yr supply cd virgin record mystery gift guarantee call tsc wwwsmsconet approx',\n",
       " 'consider wall bunker shit important never play peaceful guess place high enough matter',\n",
       " 'private account statement xxxxxx show unredeemed point call identifi code expire',\n",
       " 'hello need posh bird chap user trial prod champney put need address dob asap ta r',\n",
       " 'u want xmas free text message new video phone half price line rental call free find',\n",
       " 'well officially philosophical hole u wan na call home ready save',\n",
       " 'go goodno problembut still need little experience understand american customer voice',\n",
       " 'text drop x',\n",
       " 'ugh long day exhaust want cuddle take nap',\n",
       " 'talk atleast day otherwise miss good friend world shakespeare shesil ltgt',\n",
       " 'shop till u drop either cash travel voucher call ntt po box fixedline cost mobile vary',\n",
       " 'castor need see something',\n",
       " 'sunshine quiz wkly q win top sony dvd player u know country liverpool play mid week txt ansr sptyrone',\n",
       " 'u secret admirer look make contact ufind rreveal think ur specialcall',\n",
       " 'u secret admirer look make contact ufind rreveal think ur specialcall stopsm',\n",
       " 'reminder download content already pay goto httpdoit mymoby tv collect content',\n",
       " 'see know give break time woul lead always want miss curfew gon na gibe til one midnight movie gon na get til need come home need getsleep anything need b studdye ear training',\n",
       " 'love give massage use lot baby oil fave position',\n",
       " 'dude go sup',\n",
       " 'yoyyooo u know change permission drive mac usb flash drive',\n",
       " 'gibb unsoldmike hussey',\n",
       " 'like talk pa able do nt know',\n",
       " 'dun cut short leh u dun like ah fail quite sad',\n",
       " 'unbelievable faglord',\n",
       " 'wifehow know time murder exactly',\n",
       " 'ask princess',\n",
       " 'great princess think',\n",
       " 'nutter cutter ctter cttergg cttargg ctargg ctagg ie',\n",
       " 'ok noe ure busy I m really bore msg u oso dunno wat colour choose one',\n",
       " 'do nt g class early tomorrow thus try smoke ltgt',\n",
       " 'superb think grateful u do nt everything u want mean u still opportunity happy tomorrow u today',\n",
       " 'hope good week check',\n",
       " 'use hope agent drop since I ve book thing year whole boston nyc experiment',\n",
       " 'thursday night yeah sure thing work',\n",
       " 'probably money worry thing come due several outstanding invoice work two three month ago',\n",
       " 'possible teach',\n",
       " 'wonder phone battery go dead tell love babe',\n",
       " 'lovely smell bus tobacco',\n",
       " 'get worried derek taylor already assume bad',\n",
       " 'hey charles sorry late reply',\n",
       " 'last stereophonic marley dizzee racal libertine stroke win nookii game flirt click themob wap bookmark text wap',\n",
       " 'ill give plus say grinule greet whenever speak',\n",
       " 'white fudge oreo store',\n",
       " 'january male sale hot gay chat cheap call national rate min cheap min peak stop text call min',\n",
       " 'love come take long leave zaher get word ym happy see sad leave miss',\n",
       " 'sorry hurt',\n",
       " 'ca nt feel nauseous piss eat sweet week cause today plan pig diet week hungry',\n",
       " 'ok lor early still project meet',\n",
       " 'call da wait call',\n",
       " 'could ask carlos could get anybody else chip',\n",
       " 'actually send reminder today wonderful weekend',\n",
       " 'people see msg think iam addict msge wrong bcoz do nt know iam addict sweet friend bslvyl',\n",
       " 'hey give photo register drive ah tmr wan na meet yck',\n",
       " 'do nt talk ever ok word',\n",
       " 'u wana see',\n",
       " 'way school pls send ashley number',\n",
       " 'shall fine avalarr hollalater',\n",
       " 'go attend another two round todaybut still didt reach home',\n",
       " 'actually delete old websitenow blogge magicalsongsblogspotcom',\n",
       " 'k wait chikkuil send aftr ltgt min',\n",
       " 'diet eat many slice pizza yesterday ugh always diet',\n",
       " 'ki give kvb acc detail',\n",
       " 'oh come ah',\n",
       " 'money r lucky winner claim prize text money give away normal text rate',\n",
       " 'really sorry b able fridayhope u find alternativehope yr term go ok',\n",
       " 'congratulation ore mo owo wa enjoy wish many happy moment fro wherever go',\n",
       " 'samus shoulder yet',\n",
       " 'time think need know near campus',\n",
       " 'dear matthew please call landline complimentary lux tenerife holiday cash await collection sae tc',\n",
       " 'dun wear jean lor',\n",
       " 'since side fever vomitin',\n",
       " 'kkare college',\n",
       " 'urgent call landline complimentary tenerife holiday cash await collection sae tc box',\n",
       " 'well make friday stuff like pig yesterday feel bleh least writhe pain kind bleh',\n",
       " 'sell ton coin sell coin someone thru paypal voila money back life pocket',\n",
       " 'they re lot place hospital medical place safe',\n",
       " 'get touch folk wait company txt back name age opt enjoy community sm',\n",
       " 'also sorta blow couple time recently i d rather text blue look weed',\n",
       " 'send score sopha secondary application school think think apply research cost also contact joke ogunrinde school one le expensive one',\n",
       " 'ca nt wait see photo useful',\n",
       " 'ur cashbalance currently pound maximize ur cashin send go msg cc po box tcr',\n",
       " 'hey book kb sit already lesson go ah keep sit night free need meet confirm lodge',\n",
       " 'chk ur belovd m dict',\n",
       " 'time want come',\n",
       " 'awesome lem I know whenever around',\n",
       " 'shb b ok lor thanx',\n",
       " 'beautiful truth gravity read carefully heart feel light someone feel heavy someone leaf good night',\n",
       " 'also remember get dobby bowl car',\n",
       " 'filthy story girl wait',\n",
       " 'sorry c ur msg yar lor poor thing one night tmr ull brand new room sleep',\n",
       " 'love decision feel could decide love life would much simple le magical',\n",
       " 'welp apparently retire',\n",
       " 'sort code acc bank natwest reply confirm I ve send right person',\n",
       " '',\n",
       " 'u sure u can not take sick time',\n",
       " 'urgent try contact u today draw show prize guarantee call land line claim',\n",
       " 'yo chad gymnastic class wan na take site say christian class full',\n",
       " 'well still catch let ask sell ltgt',\n",
       " 'sure night menu know noon menu',\n",
       " 'u want come backa beautiful necklace token heart youthat give wife likingbe seeno one give thatdont call mei wait till come',\n",
       " 'willing go aptitude class',\n",
       " 'wo nt b try sort house ok',\n",
       " 'yar lor wan go c horse race today mah eat early lor eat chicken rice u',\n",
       " 'haha awesome omw back',\n",
       " 'yup thk e shop close lor',\n",
       " 'account number',\n",
       " 'eh u send wrongly lar',\n",
       " 'hey ad crap nite borin without ya boggy u bore biatch thanx u wait til nxt time il ave ya',\n",
       " 'ok shall talk',\n",
       " 'do nt hesitate know second time weakness like keep notebook eat day anything change day sure nothing',\n",
       " 'hey pay salary de ltgt',\n",
       " 'another month need chocolate weed alcohol',\n",
       " 'start search get job dayshe great potential talent',\n",
       " 'reckon need town eightish walk carpark',\n",
       " 'congrat mobile videophone r call videochat wid mate play java game dload polyph music noline rentl',\n",
       " 'look fuckin time fuck think',\n",
       " 'yo guess drop',\n",
       " 'carlos say mu ltgt minute',\n",
       " 'office call ltgt min',\n",
       " 'geeee miss already know think fuck can not wait till next year together love kiss',\n",
       " 'yun ahthe ubi one say ü wan call tomorrowcall look ireneere get ubi cresubi tech park daysèn',\n",
       " 'ugh get ta drive back sd la butt sore',\n",
       " 'july',\n",
       " 'hi I m relax time ever get every day party good night get home tomorrow',\n",
       " 'ü ü wan come come lor din c stripe skirt',\n",
       " 'xmas story peace xmas msg love xmas miracle jesus hav bless month ahead amp wish u merry xmas',\n",
       " 'can not number',\n",
       " 'change e one next escalator',\n",
       " 'yetunde I m class run water make ok pls',\n",
       " 'lot happen feel quiet beth aunt charlie work lot helen mo',\n",
       " 'ü wait bus stop aft ur lect lar dun c ü go get car come back n pick ü',\n",
       " 'aight thank comin',\n",
       " 'nobut hear abt tat',\n",
       " 'ltgt think say syllabus',\n",
       " 'umma say anything',\n",
       " 'give sec think think',\n",
       " 'panasonic bluetoothhdset free nokia free motorola free doublemin doubletxt orange contract call call',\n",
       " 'quite know still can not get hold anyone cud pick bout see pub',\n",
       " 'poyyarikaturkolathupalayamunjalur posterode dis ltgt',\n",
       " 'dear heroi leave qatar tonite apt opportunitypls keep touch ltemailgt kerala',\n",
       " 'lol would mom would fit tell whole family crazy terrible',\n",
       " 'get home babe still awake',\n",
       " 'dunno close oredi ü v fan',\n",
       " 'buy pizza meat lover supreme u get pick',\n",
       " 'ya toldshe ask wat matter',\n",
       " 'dearregret cudnt pick calldrove frm ctla cochin homeleft mobile carente style ishtamayoohappy bakrid',\n",
       " 'free week nokia tone ur mob every week txt nokia get txte tell ur mate wwwgetzedcouk pobox tone',\n",
       " 'shall send exe mail i d',\n",
       " 'nope watch tv home go v bore',\n",
       " 'knowwait check',\n",
       " 'good afternoon glorious anniversary day sweet j hope find happy content prey think send teasing kiss across sea coax image fond souvenier cougarpen',\n",
       " 'guess somebody know secretly fancy wan na find give u call landline min',\n",
       " 'still tonight',\n",
       " 'may call later pls',\n",
       " 'have nt pattern recently crap weekend',\n",
       " 'sore throat scratch talk',\n",
       " ...]"
      ]
     },
     "execution_count": 30,
     "metadata": {},
     "output_type": "execute_result"
    }
   ],
   "source": [
    "lemmatized = [str(' '.join(sentance)) for sentance in lemmatized]\n",
    "lemmatized"
   ]
  },
  {
   "cell_type": "markdown",
   "id": "b1d258d3",
   "metadata": {},
   "source": [
    "# NER - named entity recognition"
   ]
  },
  {
   "cell_type": "code",
   "execution_count": 31,
   "id": "9350d4b5",
   "metadata": {},
   "outputs": [
    {
     "data": {
      "text/plain": [
       "Apple is looking at buying U.K. startup for $1 billion"
      ]
     },
     "execution_count": 31,
     "metadata": {},
     "output_type": "execute_result"
    }
   ],
   "source": [
    "doc_exp"
   ]
  },
  {
   "cell_type": "code",
   "execution_count": 32,
   "id": "aa580c73",
   "metadata": {},
   "outputs": [
    {
     "name": "stdout",
     "output_type": "stream",
     "text": [
      "('Apple', 'ORG')\n",
      "('U.K.', 'GPE')\n",
      "('$1 billion', 'MONEY')\n"
     ]
    }
   ],
   "source": [
    "entities = [(X.text, X.label_) for X in doc_exp.ents]\n",
    "for entity in entities:\n",
    "    print(entity)"
   ]
  },
  {
   "cell_type": "markdown",
   "id": "d00af7a9",
   "metadata": {},
   "source": [
    "# TfidfVectorizer"
   ]
  },
  {
   "cell_type": "markdown",
   "id": "af895390",
   "metadata": {},
   "source": [
    "The whole idea behind TF-IDF is to find important words in a document  by finding those words that have a high frequency in that document but  not anywhere else in the corpus. For a document related to Computer  Science, these words could be – Computational, data, processor, etc. but  for an astronomical document, it would be- extraterrestrial, galactic,  black hole, etc"
   ]
  },
  {
   "cell_type": "code",
   "execution_count": 92,
   "id": "2d465b82",
   "metadata": {},
   "outputs": [],
   "source": [
    "from sklearn.feature_extraction.text import TfidfVectorizer, CountVectorizer\n",
    "from sklearn.model_selection import train_test_split"
   ]
  },
  {
   "cell_type": "code",
   "execution_count": 93,
   "id": "f330fb65",
   "metadata": {},
   "outputs": [],
   "source": [
    "cv = CountVectorizer()\n",
    "X = cv.fit_transform(df['Message']).toarray()\n",
    "# X = cv.fit_transform(lemmatized).toarray()\n",
    "\n",
    "le = LabelEncoder()\n",
    "df[\"Category\"] = le.fit_transform(df[\"Category\"]) \n",
    "y = df[\"Category\"]"
   ]
  },
  {
   "cell_type": "code",
   "execution_count": 94,
   "id": "834a4bfa",
   "metadata": {},
   "outputs": [
    {
     "data": {
      "text/plain": [
       "array([[0, 0, 0, ..., 0, 0, 0],\n",
       "       [0, 0, 0, ..., 0, 0, 0],\n",
       "       [0, 0, 0, ..., 0, 0, 0],\n",
       "       ...,\n",
       "       [0, 0, 0, ..., 0, 0, 0],\n",
       "       [0, 0, 0, ..., 0, 0, 0],\n",
       "       [0, 0, 0, ..., 0, 0, 0]], dtype=int64)"
      ]
     },
     "execution_count": 94,
     "metadata": {},
     "output_type": "execute_result"
    }
   ],
   "source": [
    "X"
   ]
  },
  {
   "cell_type": "code",
   "execution_count": 95,
   "id": "eaacdf04",
   "metadata": {},
   "outputs": [
    {
     "data": {
      "text/plain": [
       "0       0\n",
       "1       0\n",
       "2       1\n",
       "3       0\n",
       "4       0\n",
       "       ..\n",
       "5567    1\n",
       "5568    0\n",
       "5569    0\n",
       "5570    0\n",
       "5571    0\n",
       "Name: Category, Length: 5157, dtype: int64"
      ]
     },
     "execution_count": 95,
     "metadata": {},
     "output_type": "execute_result"
    }
   ],
   "source": [
    "y"
   ]
  },
  {
   "cell_type": "code",
   "execution_count": 96,
   "id": "cf2a5161",
   "metadata": {},
   "outputs": [],
   "source": [
    "df_train_x, df_test_x, df_y_train, df_y_test = train_test_split(df['Message'],df['Category'] , test_size=0.33, random_state=42)"
   ]
  },
  {
   "cell_type": "code",
   "execution_count": 97,
   "id": "7b4e3c46",
   "metadata": {},
   "outputs": [],
   "source": [
    "X_train, X_test, y_train, y_test = train_test_split( X,y, test_size=0.33, random_state=42)"
   ]
  },
  {
   "cell_type": "code",
   "execution_count": 98,
   "id": "b0a91ef1",
   "metadata": {},
   "outputs": [],
   "source": [
    "vectorizer = TfidfVectorizer(use_idf=True)\n",
    "tfidf = vectorizer.fit_transform(df_train_x)"
   ]
  },
  {
   "cell_type": "code",
   "execution_count": 99,
   "id": "67e39908",
   "metadata": {},
   "outputs": [
    {
     "data": {
      "text/plain": [
       "260                im parked next mini coming today think\n",
       "3746                      aight let know gonna around usf\n",
       "1965    honeybee said sweetest world god laughed amp s...\n",
       "1186                                             annoying\n",
       "2731                                  havent lei next mon\n",
       "660                            premium phone service call\n",
       "3984    nationwide auto centre something like newport ...\n",
       "3919                need ke qi ü bored izzit suddenly thk\n",
       "4659    message great doctor india drink appy fizz con...\n",
       "4397                   dear mood cant drive brother drive\n",
       "Name: Message, dtype: object"
      ]
     },
     "execution_count": 99,
     "metadata": {},
     "output_type": "execute_result"
    }
   ],
   "source": [
    "df_train_x[:10]"
   ]
  },
  {
   "cell_type": "code",
   "execution_count": 100,
   "id": "f910009b",
   "metadata": {},
   "outputs": [
    {
     "data": {
      "text/html": [
       "<div>\n",
       "<style scoped>\n",
       "    .dataframe tbody tr th:only-of-type {\n",
       "        vertical-align: middle;\n",
       "    }\n",
       "\n",
       "    .dataframe tbody tr th {\n",
       "        vertical-align: top;\n",
       "    }\n",
       "\n",
       "    .dataframe thead th {\n",
       "        text-align: right;\n",
       "    }\n",
       "</style>\n",
       "<table border=\"1\" class=\"dataframe\">\n",
       "  <thead>\n",
       "    <tr style=\"text-align: right;\">\n",
       "      <th></th>\n",
       "      <th>TF-IDF</th>\n",
       "    </tr>\n",
       "  </thead>\n",
       "  <tbody>\n",
       "    <tr>\n",
       "      <th>god</th>\n",
       "      <td>0.367774</td>\n",
       "    </tr>\n",
       "    <tr>\n",
       "      <th>said</th>\n",
       "      <td>0.303205</td>\n",
       "    </tr>\n",
       "    <tr>\n",
       "      <th>sweetest</th>\n",
       "      <td>0.248456</td>\n",
       "    </tr>\n",
       "    <tr>\n",
       "      <th>laughed</th>\n",
       "      <td>0.248456</td>\n",
       "    </tr>\n",
       "    <tr>\n",
       "      <th>crack</th>\n",
       "      <td>0.248456</td>\n",
       "    </tr>\n",
       "    <tr>\n",
       "      <th>waitu</th>\n",
       "      <td>0.248456</td>\n",
       "    </tr>\n",
       "    <tr>\n",
       "      <th>gmgngegn</th>\n",
       "      <td>0.248456</td>\n",
       "    </tr>\n",
       "    <tr>\n",
       "      <th>havnt</th>\n",
       "      <td>0.248456</td>\n",
       "    </tr>\n",
       "    <tr>\n",
       "      <th>honeybee</th>\n",
       "      <td>0.248456</td>\n",
       "    </tr>\n",
       "    <tr>\n",
       "      <th>moral</th>\n",
       "      <td>0.236541</td>\n",
       "    </tr>\n",
       "    <tr>\n",
       "      <th>met</th>\n",
       "      <td>0.228087</td>\n",
       "    </tr>\n",
       "    <tr>\n",
       "      <th>joke</th>\n",
       "      <td>0.216172</td>\n",
       "    </tr>\n",
       "    <tr>\n",
       "      <th>reading</th>\n",
       "      <td>0.211642</td>\n",
       "    </tr>\n",
       "    <tr>\n",
       "      <th>world</th>\n",
       "      <td>0.182298</td>\n",
       "    </tr>\n",
       "    <tr>\n",
       "      <th>person</th>\n",
       "      <td>0.177990</td>\n",
       "    </tr>\n",
       "    <tr>\n",
       "      <th>amp</th>\n",
       "      <td>0.170903</td>\n",
       "    </tr>\n",
       "    <tr>\n",
       "      <th>even</th>\n",
       "      <td>0.161166</td>\n",
       "    </tr>\n",
       "    <tr>\n",
       "      <th>msg</th>\n",
       "      <td>0.145264</td>\n",
       "    </tr>\n",
       "    <tr>\n",
       "      <th>pthis</th>\n",
       "      <td>0.000000</td>\n",
       "    </tr>\n",
       "    <tr>\n",
       "      <th>putting</th>\n",
       "      <td>0.000000</td>\n",
       "    </tr>\n",
       "  </tbody>\n",
       "</table>\n",
       "</div>"
      ],
      "text/plain": [
       "            TF-IDF\n",
       "god       0.367774\n",
       "said      0.303205\n",
       "sweetest  0.248456\n",
       "laughed   0.248456\n",
       "crack     0.248456\n",
       "waitu     0.248456\n",
       "gmgngegn  0.248456\n",
       "havnt     0.248456\n",
       "honeybee  0.248456\n",
       "moral     0.236541\n",
       "met       0.228087\n",
       "joke      0.216172\n",
       "reading   0.211642\n",
       "world     0.182298\n",
       "person    0.177990\n",
       "amp       0.170903\n",
       "even      0.161166\n",
       "msg       0.145264\n",
       "pthis     0.000000\n",
       "putting   0.000000"
      ]
     },
     "execution_count": 100,
     "metadata": {},
     "output_type": "execute_result"
    }
   ],
   "source": [
    "df_single_doc = pd.DataFrame(tfidf[2].T.todense(), index=vectorizer.get_feature_names(),columns=['TF-IDF'])\n",
    "df_single_doc = df_single_doc.sort_values('TF-IDF', ascending=False)\n",
    "df_single_doc.head(20)"
   ]
  },
  {
   "cell_type": "code",
   "execution_count": 101,
   "id": "505210b9",
   "metadata": {},
   "outputs": [
    {
     "data": {
      "text/plain": [
       "matrix([[0., 0., 0., ..., 0., 0., 0.],\n",
       "        [0., 0., 0., ..., 0., 0., 0.],\n",
       "        [0., 0., 0., ..., 0., 0., 0.],\n",
       "        ...,\n",
       "        [0., 0., 0., ..., 0., 0., 0.],\n",
       "        [0., 0., 0., ..., 0., 0., 0.],\n",
       "        [0., 0., 0., ..., 0., 0., 0.]])"
      ]
     },
     "execution_count": 101,
     "metadata": {},
     "output_type": "execute_result"
    }
   ],
   "source": [
    "tfidfvectorizer = TfidfVectorizer(analyzer='word' , stop_words='english')\n",
    "tfidfvectorizer.fit(df_train_x)\n",
    "tfidf_train = tfidfvectorizer.transform(df_train_x)\n",
    "tfidf_term_vectors  = tfidfvectorizer.transform(df_test_x)\n",
    "tfidf_term_vectors.todense()"
   ]
  },
  {
   "cell_type": "markdown",
   "id": "a2127c1c",
   "metadata": {},
   "source": [
    "# Logistic Regression"
   ]
  },
  {
   "cell_type": "code",
   "execution_count": 102,
   "id": "9a1ddf66",
   "metadata": {},
   "outputs": [],
   "source": [
    "from sklearn.linear_model import LogisticRegression"
   ]
  },
  {
   "cell_type": "code",
   "execution_count": 103,
   "id": "3b7bb0ee",
   "metadata": {},
   "outputs": [
    {
     "data": {
      "text/plain": [
       "array([0, 0, 0, 0, 0, 1, 1, 1, 1, 0, 1, 0, 0, 0, 0, 0, 0, 0, 0, 0],\n",
       "      dtype=int64)"
      ]
     },
     "metadata": {},
     "output_type": "display_data"
    },
    {
     "data": {
      "text/plain": [
       "3031    0\n",
       "495     0\n",
       "2942    0\n",
       "3911    0\n",
       "3360    1\n",
       "2309    1\n",
       "870     1\n",
       "3425    1\n",
       "690     1\n",
       "1219    0\n",
       "3433    1\n",
       "2158    0\n",
       "1939    0\n",
       "4304    0\n",
       "4167    0\n",
       "5371    0\n",
       "4505    0\n",
       "2846    0\n",
       "3070    0\n",
       "5103    0\n",
       "Name: Category, dtype: int64"
      ]
     },
     "metadata": {},
     "output_type": "display_data"
    },
    {
     "data": {
      "text/plain": [
       "array([[9.84964368e-01, 1.50356323e-02],\n",
       "       [7.46178576e-01, 2.53821424e-01],\n",
       "       [9.98683959e-01, 1.31604070e-03],\n",
       "       [9.97917218e-01, 2.08278172e-03],\n",
       "       [9.78278977e-01, 2.17210228e-02],\n",
       "       [4.11627981e-02, 9.58837202e-01],\n",
       "       [6.82589408e-05, 9.99931741e-01],\n",
       "       [4.51184483e-01, 5.48815517e-01],\n",
       "       [1.52302052e-01, 8.47697948e-01],\n",
       "       [9.85775698e-01, 1.42243022e-02],\n",
       "       [1.91963088e-01, 8.08036912e-01],\n",
       "       [9.95626376e-01, 4.37362401e-03],\n",
       "       [9.82068249e-01, 1.79317505e-02],\n",
       "       [9.67602663e-01, 3.23973375e-02],\n",
       "       [9.57607097e-01, 4.23929032e-02],\n",
       "       [9.96514636e-01, 3.48536445e-03],\n",
       "       [9.95753309e-01, 4.24669068e-03],\n",
       "       [9.94999391e-01, 5.00060913e-03],\n",
       "       [9.91259842e-01, 8.74015834e-03],\n",
       "       [9.36708364e-01, 6.32916355e-02]])"
      ]
     },
     "metadata": {},
     "output_type": "display_data"
    },
    {
     "name": "stdout",
     "output_type": "stream",
     "text": [
      "Score of train data: 0.9947901591895804\n",
      "Score of test data: 0.9782608695652174\n"
     ]
    }
   ],
   "source": [
    "clf = LogisticRegression(random_state=0).fit(X_train, y_train)\n",
    "display(clf.predict(X_test)[:20])\n",
    "display(y_test[:20])\n",
    "\n",
    "display(clf.predict_proba(X_test[:20]))\n",
    "print(\"Score of train data:\", clf.score(X_train, y_train))\n",
    "print(\"Score of test data:\", clf.score(X_test, y_test))"
   ]
  },
  {
   "cell_type": "markdown",
   "id": "79522d8c",
   "metadata": {},
   "source": [
    "This model perform very well on both datasets"
   ]
  },
  {
   "cell_type": "markdown",
   "id": "2aa73552",
   "metadata": {},
   "source": [
    "## Count how many times model classified  sample properly"
   ]
  },
  {
   "cell_type": "code",
   "execution_count": 104,
   "id": "245a81b2",
   "metadata": {},
   "outputs": [
    {
     "name": "stdout",
     "output_type": "stream",
     "text": [
      "Number of proper claification: 1665 over 1,702, so model has missclassified number of 37 documents\n"
     ]
    }
   ],
   "source": [
    "predict_test = clf.predict(X_test)\n",
    "counterLR = 0\n",
    "for i in range(len(predict_test)):\n",
    "    if predict_test[i] ==list(y_test)[i]:\n",
    "        counterLR+=1\n",
    "print(f'Number of proper claification: {counterLR} over {len(predict_test):,}, so model has missclassified number of {len(predict_test)-counterLR} documents')"
   ]
  },
  {
   "cell_type": "markdown",
   "id": "62aec11d",
   "metadata": {},
   "source": [
    "## Other metrics"
   ]
  },
  {
   "cell_type": "code",
   "execution_count": 105,
   "id": "1912a253",
   "metadata": {},
   "outputs": [
    {
     "name": "stdout",
     "output_type": "stream",
     "text": [
      "F1 Score: 0.9775954147738879\n",
      "Accuracy Score: 0.9782608695652174\n"
     ]
    }
   ],
   "source": [
    "# F1 score and accuracy\n",
    "\n",
    "f1_score_LR = f1_score(y_test, predict_test, average='weighted')\n",
    "accuracy_LR = accuracy_score(y_test, predict_test)\n",
    "\n",
    "print(\"F1 Score:\", f1_score_LR)\n",
    "print(\"Accuracy Score:\", accuracy_LR)"
   ]
  },
  {
   "cell_type": "code",
   "execution_count": 106,
   "id": "19377ec1",
   "metadata": {},
   "outputs": [
    {
     "name": "stdout",
     "output_type": "stream",
     "text": [
      "              precision    recall  f1-score   support\n",
      "\n",
      "           0       0.98      1.00      0.99      1483\n",
      "           1       0.98      0.85      0.91       219\n",
      "\n",
      "    accuracy                           0.98      1702\n",
      "   macro avg       0.98      0.92      0.95      1702\n",
      "weighted avg       0.98      0.98      0.98      1702\n",
      "\n"
     ]
    }
   ],
   "source": [
    "print(classification_report(y_test, predict_test))"
   ]
  },
  {
   "cell_type": "markdown",
   "id": "783de742",
   "metadata": {},
   "source": [
    "We note that precision for both categories is within 2% error which is a very good result. The 85% recall score indicates that the model made an error in 15% of the documents, in fact the documents turned out to be spam. F-1 score shows the combination of precision and recall which may indicate a very good model performance. "
   ]
  },
  {
   "cell_type": "code",
   "execution_count": 107,
   "id": "7df1bea8",
   "metadata": {},
   "outputs": [
    {
     "data": {
      "image/png": "[encoded data removed]",
      "text/plain": [
       "<Figure size 432x288 with 2 Axes>"
      ]
     },
     "metadata": {
      "needs_background": "light"
     },
     "output_type": "display_data"
    }
   ],
   "source": [
    "cm = confusion_matrix(y_test, predict_test)\n",
    "\n",
    "group_names = ['True Neg', 'False Pos', 'False Neg', 'True Pos']\n",
    "group_counts = [\"{0:0.0f}\".format(value) for value in\n",
    "                cm.flatten()]\n",
    "group_percentages = [\"{0:.2%}\".format(value) for value in\n",
    "                     cm.flatten()/np.sum(cm)]\n",
    "labels = [f\"{v1}\\n{v2}\\n{v3}\" for v1, v2, v3 in\n",
    "          zip(group_names,group_counts,group_percentages)]\n",
    "labels = np.asarray(labels).reshape(2,2)\n",
    "g = sns.heatmap(cm, annot=labels, fmt='', cmap='Blues')\n",
    "g.set_xticklabels(['ham','spam'])\n",
    "g.set_yticklabels(['ham','spam'])\n",
    "plt.show()"
   ]
  },
  {
   "cell_type": "markdown",
   "id": "b6ddd106",
   "metadata": {},
   "source": [
    "# Multinominal Naive Bayes"
   ]
  },
  {
   "cell_type": "code",
   "execution_count": 108,
   "id": "81155787",
   "metadata": {},
   "outputs": [],
   "source": [
    "nb = MultinomialNB().fit(X_train, y_train)"
   ]
  },
  {
   "cell_type": "code",
   "execution_count": 109,
   "id": "8bc34187",
   "metadata": {},
   "outputs": [
    {
     "name": "stdout",
     "output_type": "stream",
     "text": [
      "Score of train data: 0.9901591895803183\n",
      "Score of test data: 0.963572267920094\n"
     ]
    }
   ],
   "source": [
    "print(\"Score of train data:\", nb.score(X_train, y_train))\n",
    "print(\"Score of test data:\", nb.score(X_test, y_test))"
   ]
  },
  {
   "cell_type": "markdown",
   "id": "a90a7b80",
   "metadata": {},
   "source": [
    "## Count how many times model classified  sample properly"
   ]
  },
  {
   "cell_type": "code",
   "execution_count": 110,
   "id": "049387c1",
   "metadata": {},
   "outputs": [
    {
     "name": "stdout",
     "output_type": "stream",
     "text": [
      "Number of proper claification: 1640 over 1,702, so model has missclassified number of 62 documents\n"
     ]
    }
   ],
   "source": [
    "y_predNB = nb.predict(X_test)\n",
    "\n",
    "counterNB = 0\n",
    "for i in range(len(y_predNB)):\n",
    "    if y_predNB[i] ==list(y_test)[i]:\n",
    "        counterNB+=1\n",
    "\n",
    "print(f'Number of proper claification: {counterNB} over {len(y_predNB):,}, so model has missclassified number of {len(y_predNB)-counterNB} documents')"
   ]
  },
  {
   "cell_type": "markdown",
   "id": "f349d588",
   "metadata": {},
   "source": [
    "## Other metrics"
   ]
  },
  {
   "cell_type": "code",
   "execution_count": 111,
   "id": "85f88132",
   "metadata": {},
   "outputs": [
    {
     "name": "stdout",
     "output_type": "stream",
     "text": [
      "F1 Score: 0.9647318114028985\n",
      "Accuracy Score: 0.963572267920094\n"
     ]
    }
   ],
   "source": [
    "# F1 score and accuracy\n",
    "\n",
    "f1_score_NB = f1_score(y_test, y_predNB, average='weighted')\n",
    "accuracy_NB = accuracy_score(y_test, y_predNB)\n",
    "\n",
    "print(\"F1 Score:\", f1_score_NB)\n",
    "print(\"Accuracy Score:\", accuracy_NB)"
   ]
  },
  {
   "cell_type": "code",
   "execution_count": 112,
   "id": "8c704d71",
   "metadata": {},
   "outputs": [
    {
     "name": "stdout",
     "output_type": "stream",
     "text": [
      "              precision    recall  f1-score   support\n",
      "\n",
      "           0       0.99      0.97      0.98      1483\n",
      "           1       0.81      0.94      0.87       219\n",
      "\n",
      "    accuracy                           0.96      1702\n",
      "   macro avg       0.90      0.95      0.92      1702\n",
      "weighted avg       0.97      0.96      0.96      1702\n",
      "\n"
     ]
    }
   ],
   "source": [
    "print(classification_report(y_test, y_predNB))"
   ]
  },
  {
   "cell_type": "markdown",
   "id": "cf5708ba",
   "metadata": {},
   "source": [
    "Compared to Logical Regression, we see here a much worse value for the precision metric, which may indicate that we managed to identify 81% of all cases belonging to this class. However, given the size of this class, i.e. 219, we can treat this as a good result. "
   ]
  },
  {
   "cell_type": "code",
   "execution_count": 113,
   "id": "013a65f8",
   "metadata": {},
   "outputs": [
    {
     "data": {
      "image/png": "[encoded data removed]",
      "text/plain": [
       "<Figure size 432x288 with 2 Axes>"
      ]
     },
     "metadata": {
      "needs_background": "light"
     },
     "output_type": "display_data"
    }
   ],
   "source": [
    "cm = confusion_matrix(y_test, y_predNB)\n",
    "\n",
    "group_names = ['True Neg', 'False Pos', 'False Neg', 'True Pos']\n",
    "group_counts = [\"{0:0.0f}\".format(value) for value in\n",
    "                cm.flatten()]\n",
    "group_percentages = [\"{0:.2%}\".format(value) for value in\n",
    "                     cm.flatten()/np.sum(cm)]\n",
    "labels = [f\"{v1}\\n{v2}\\n{v3}\" for v1, v2, v3 in\n",
    "          zip(group_names,group_counts,group_percentages)]\n",
    "labels = np.asarray(labels).reshape(2,2)\n",
    "g=  sns.heatmap(cm, annot=labels, fmt='', cmap='Blues')\n",
    "g.set_xticklabels(['ham','spam'])\n",
    "g.set_yticklabels(['ham','spam'])\n",
    "plt.show()"
   ]
  },
  {
   "cell_type": "markdown",
   "id": "50921724",
   "metadata": {},
   "source": [
    "# Decission Tree"
   ]
  },
  {
   "cell_type": "code",
   "execution_count": 114,
   "id": "9e0cd2c2",
   "metadata": {},
   "outputs": [
    {
     "data": {
      "text/plain": [
       "array([0.94508671, 0.95375723, 0.95953757, 0.94508671, 0.95953757,\n",
       "       0.96811594, 0.96521739, 0.95362319, 0.96521739, 0.95942029])"
      ]
     },
     "execution_count": 114,
     "metadata": {},
     "output_type": "execute_result"
    }
   ],
   "source": [
    "from sklearn.model_selection import cross_val_score\n",
    "from sklearn.tree import DecisionTreeClassifier\n",
    "dtc = DecisionTreeClassifier(random_state=0)\n",
    "cross_val_score(dtc, X_train, y_train, cv=10)"
   ]
  },
  {
   "cell_type": "code",
   "execution_count": 115,
   "id": "9dfedf51",
   "metadata": {},
   "outputs": [],
   "source": [
    "dtc = dtc.fit(X_train, y_train)"
   ]
  },
  {
   "cell_type": "code",
   "execution_count": 116,
   "id": "ece74386",
   "metadata": {},
   "outputs": [
    {
     "name": "stdout",
     "output_type": "stream",
     "text": [
      "Score of train data: 1.0\n",
      "Score of test data: 0.9576968272620446\n"
     ]
    }
   ],
   "source": [
    "print(\"Score of train data:\", dtc.score(X_train, y_train))\n",
    "print(\"Score of test data:\", dtc.score(X_test, y_test))"
   ]
  },
  {
   "cell_type": "markdown",
   "id": "1397d789",
   "metadata": {},
   "source": [
    "## Count how many times model classified  sample properly"
   ]
  },
  {
   "cell_type": "code",
   "execution_count": 117,
   "id": "e6079708",
   "metadata": {},
   "outputs": [
    {
     "name": "stdout",
     "output_type": "stream",
     "text": [
      "Number of proper claification: 1630 over 1,702, so model has missclassified number of 72 documents\n"
     ]
    }
   ],
   "source": [
    "y_predDTC = dtc.predict(X_test)\n",
    "\n",
    "counterDTC = 0\n",
    "for i in range(len(y_predDTC)):\n",
    "    if y_predDTC[i] ==list(y_test)[i]:\n",
    "        counterDTC+=1\n",
    "\n",
    "print(f'Number of proper claification: {counterDTC} over {len(y_predDTC):,}, so model has missclassified number of {len(y_predDTC)-counterDTC} documents')"
   ]
  },
  {
   "cell_type": "markdown",
   "id": "4b649927",
   "metadata": {},
   "source": [
    "## Other metrics"
   ]
  },
  {
   "cell_type": "code",
   "execution_count": 118,
   "id": "55f537c3",
   "metadata": {},
   "outputs": [
    {
     "name": "stdout",
     "output_type": "stream",
     "text": [
      "F1 Score: 0.9576968272620446\n",
      "Accuracy Score: 0.9576968272620446\n"
     ]
    }
   ],
   "source": [
    "# F1 score and accuracy\n",
    "\n",
    "f1_score_DTC = f1_score(y_test, y_predDTC, average='weighted')\n",
    "accuracy_DTC = accuracy_score(y_test, y_predDTC)\n",
    "\n",
    "print(\"F1 Score:\", f1_score_DTC)\n",
    "print(\"Accuracy Score:\", accuracy_DTC)"
   ]
  },
  {
   "cell_type": "code",
   "execution_count": 119,
   "id": "50d07a9e",
   "metadata": {},
   "outputs": [
    {
     "name": "stdout",
     "output_type": "stream",
     "text": [
      "              precision    recall  f1-score   support\n",
      "\n",
      "           0       0.98      0.98      0.98      1483\n",
      "           1       0.84      0.84      0.84       219\n",
      "\n",
      "    accuracy                           0.96      1702\n",
      "   macro avg       0.91      0.91      0.91      1702\n",
      "weighted avg       0.96      0.96      0.96      1702\n",
      "\n"
     ]
    }
   ],
   "source": [
    "print(classification_report(y_test, y_predDTC))"
   ]
  },
  {
   "cell_type": "markdown",
   "id": "7a003510",
   "metadata": {},
   "source": [
    "Surprisingly this model has the worst performance so far."
   ]
  },
  {
   "cell_type": "code",
   "execution_count": 120,
   "id": "6401bdae",
   "metadata": {},
   "outputs": [
    {
     "data": {
      "image/png": "[encoded data removed]",
      "text/plain": [
       "<Figure size 432x288 with 2 Axes>"
      ]
     },
     "metadata": {
      "needs_background": "light"
     },
     "output_type": "display_data"
    }
   ],
   "source": [
    "cm = confusion_matrix(y_test, y_predDTC)\n",
    "\n",
    "group_names = ['True Neg', 'False Pos', 'False Neg', 'True Pos']\n",
    "group_counts = [\"{0:0.0f}\".format(value) for value in\n",
    "                cm.flatten()]\n",
    "group_percentages = [\"{0:.2%}\".format(value) for value in\n",
    "                     cm.flatten()/np.sum(cm)]\n",
    "labels = [f\"{v1}\\n{v2}\\n{v3}\" for v1, v2, v3 in\n",
    "          zip(group_names,group_counts,group_percentages)]\n",
    "labels = np.asarray(labels).reshape(2,2)\n",
    "g = sns.heatmap(cm, annot=labels, fmt='', cmap='Blues')\n",
    "g.set_xticklabels(['ham','spam'])\n",
    "g.set_yticklabels(['ham','spam'])\n",
    "plt.show()"
   ]
  },
  {
   "cell_type": "markdown",
   "id": "579e381f",
   "metadata": {},
   "source": [
    "# Linear Support Vector"
   ]
  },
  {
   "cell_type": "code",
   "execution_count": 121,
   "id": "74800232",
   "metadata": {},
   "outputs": [
    {
     "name": "stderr",
     "output_type": "stream",
     "text": [
      "C:\\Users\\MSI\\AppData\\Roaming\\Python\\Python39\\site-packages\\sklearn\\svm\\_base.py:985: ConvergenceWarning: Liblinear failed to converge, increase the number of iterations.\n",
      "  warnings.warn(\"Liblinear failed to converge, increase \"\n"
     ]
    },
    {
     "data": {
      "text/plain": [
       "Pipeline(steps=[('standardscaler', StandardScaler()),\n",
       "                ('linearsvc', LinearSVC(random_state=0, tol=1e-05))])"
      ]
     },
     "execution_count": 121,
     "metadata": {},
     "output_type": "execute_result"
    }
   ],
   "source": [
    "from sklearn.svm import LinearSVC\n",
    "from sklearn.pipeline import make_pipeline\n",
    "from sklearn.preprocessing import StandardScaler\n",
    "lsv = make_pipeline(StandardScaler(),LinearSVC(random_state=0, tol=1e-5))\n",
    "lsv = lsv.fit(X_train, y_train)\n",
    "lsv"
   ]
  },
  {
   "cell_type": "code",
   "execution_count": 122,
   "id": "07e0a2ba",
   "metadata": {},
   "outputs": [
    {
     "name": "stdout",
     "output_type": "stream",
     "text": [
      "Score of train data: 1.0\n",
      "Score of test data: 0.9576968272620446\n"
     ]
    }
   ],
   "source": [
    "print(\"Score of train data:\", dtc.score(X_train, y_train))\n",
    "print(\"Score of test data:\", dtc.score(X_test, y_test))"
   ]
  },
  {
   "cell_type": "markdown",
   "id": "4e534fe5",
   "metadata": {},
   "source": [
    "## Count how many times model classified  sample properly"
   ]
  },
  {
   "cell_type": "code",
   "execution_count": 123,
   "id": "28682b04",
   "metadata": {},
   "outputs": [
    {
     "name": "stdout",
     "output_type": "stream",
     "text": [
      "Number of proper claification: 1640 over 1,702, so model has missclassified number of 62 documents\n"
     ]
    }
   ],
   "source": [
    "y_predlsv = lsv.predict(X_test)\n",
    "\n",
    "counterlsv = 0\n",
    "for i in range(len(y_predlsv)):\n",
    "    if y_predlsv[i] ==list(y_test)[i]:\n",
    "        counterlsv+=1\n",
    "print(f'Number of proper claification: {counterlsv} over {len(y_predlsv):,}, so model has missclassified number of {len(y_predlsv)-counterlsv} documents')"
   ]
  },
  {
   "cell_type": "markdown",
   "id": "0d316be8",
   "metadata": {},
   "source": [
    "## Other metrics"
   ]
  },
  {
   "cell_type": "code",
   "execution_count": 124,
   "id": "7f6c8034",
   "metadata": {},
   "outputs": [
    {
     "name": "stdout",
     "output_type": "stream",
     "text": [
      "F1 Score: 0.963572267920094\n",
      "Accuracy Score: 0.963572267920094\n"
     ]
    }
   ],
   "source": [
    "# F1 score and accuracy\n",
    "\n",
    "f1_score_lsv = f1_score(y_test, y_predlsv, average='weighted')\n",
    "f1_score_lsv = accuracy_score(y_test, y_predlsv)\n",
    "\n",
    "print(\"F1 Score:\", f1_score_lsv)\n",
    "print(\"Accuracy Score:\", f1_score_lsv)"
   ]
  },
  {
   "cell_type": "code",
   "execution_count": 125,
   "id": "2a7f64da",
   "metadata": {},
   "outputs": [
    {
     "name": "stdout",
     "output_type": "stream",
     "text": [
      "              precision    recall  f1-score   support\n",
      "\n",
      "           0       0.99      0.97      0.98      1483\n",
      "           1       0.81      0.93      0.87       219\n",
      "\n",
      "    accuracy                           0.96      1702\n",
      "   macro avg       0.90      0.95      0.92      1702\n",
      "weighted avg       0.97      0.96      0.96      1702\n",
      "\n"
     ]
    }
   ],
   "source": [
    "print(classification_report(y_test, y_predlsv))"
   ]
  },
  {
   "cell_type": "code",
   "execution_count": 126,
   "id": "da3f2ccb",
   "metadata": {},
   "outputs": [
    {
     "data": {
      "image/png": "[encoded data removed]",
      "text/plain": [
       "<Figure size 432x288 with 2 Axes>"
      ]
     },
     "metadata": {
      "needs_background": "light"
     },
     "output_type": "display_data"
    }
   ],
   "source": [
    "cm = confusion_matrix(y_test, y_predlsv)\n",
    "\n",
    "group_names = ['True Neg', 'False Pos', 'False Neg', 'True Pos']\n",
    "group_counts = [\"{0:0.0f}\".format(value) for value in\n",
    "                cm.flatten()]\n",
    "group_percentages = [\"{0:.2%}\".format(value) for value in\n",
    "                     cm.flatten()/np.sum(cm)]\n",
    "labels = [f\"{v1}\\n{v2}\\n{v3}\" for v1, v2, v3 in\n",
    "          zip(group_names,group_counts,group_percentages)]\n",
    "labels = np.asarray(labels).reshape(2,2)\n",
    "g= sns.heatmap(cm, annot=labels, fmt='', cmap='Blues')\n",
    "g.set_xticklabels(['ham','spam'])\n",
    "g.set_yticklabels(['ham','spam'])\n",
    "plt.show()"
   ]
  },
  {
   "cell_type": "markdown",
   "id": "6c8fc612",
   "metadata": {},
   "source": [
    "# Result comparision"
   ]
  },
  {
   "cell_type": "code",
   "execution_count": 127,
   "id": "503fe107",
   "metadata": {},
   "outputs": [
    {
     "data": {
      "text/html": [
       "<div>\n",
       "<style scoped>\n",
       "    .dataframe tbody tr th:only-of-type {\n",
       "        vertical-align: middle;\n",
       "    }\n",
       "\n",
       "    .dataframe tbody tr th {\n",
       "        vertical-align: top;\n",
       "    }\n",
       "\n",
       "    .dataframe thead th {\n",
       "        text-align: right;\n",
       "    }\n",
       "</style>\n",
       "<table border=\"1\" class=\"dataframe\">\n",
       "  <thead>\n",
       "    <tr style=\"text-align: right;\">\n",
       "      <th></th>\n",
       "      <th>model_name</th>\n",
       "      <th>predicted_good</th>\n",
       "      <th>All_test_samples</th>\n",
       "    </tr>\n",
       "  </thead>\n",
       "  <tbody>\n",
       "    <tr>\n",
       "      <th>0</th>\n",
       "      <td>Logistic Regression</td>\n",
       "      <td>1665</td>\n",
       "      <td>1702</td>\n",
       "    </tr>\n",
       "    <tr>\n",
       "      <th>1</th>\n",
       "      <td>NaiveBayes</td>\n",
       "      <td>1640</td>\n",
       "      <td>1702</td>\n",
       "    </tr>\n",
       "    <tr>\n",
       "      <th>2</th>\n",
       "      <td>Decision Tree</td>\n",
       "      <td>1630</td>\n",
       "      <td>1702</td>\n",
       "    </tr>\n",
       "    <tr>\n",
       "      <th>3</th>\n",
       "      <td>Linear Suppor Vector</td>\n",
       "      <td>1640</td>\n",
       "      <td>1702</td>\n",
       "    </tr>\n",
       "  </tbody>\n",
       "</table>\n",
       "</div>"
      ],
      "text/plain": [
       "             model_name  predicted_good  All_test_samples\n",
       "0   Logistic Regression            1665              1702\n",
       "1            NaiveBayes            1640              1702\n",
       "2         Decision Tree            1630              1702\n",
       "3  Linear Suppor Vector            1640              1702"
      ]
     },
     "execution_count": 127,
     "metadata": {},
     "output_type": "execute_result"
    }
   ],
   "source": [
    "values_for_df = {'model_name':['Logistic Regression','NaiveBayes','Decision Tree','Linear Suppor Vector'], 'predicted_good':[counterLR,counterNB,counterDTC,counterlsv],'All_test_samples':[len(predict_test),len(y_predNB),len(y_predDTC),len(y_predDTC)]}\n",
    "df_comparision = pd.DataFrame.from_dict(values_for_df)\n",
    "df_comparision"
   ]
  },
  {
   "cell_type": "code",
   "execution_count": 128,
   "id": "9082e07b",
   "metadata": {},
   "outputs": [
    {
     "data": {
      "text/html": [
       "<div>\n",
       "<style scoped>\n",
       "    .dataframe tbody tr th:only-of-type {\n",
       "        vertical-align: middle;\n",
       "    }\n",
       "\n",
       "    .dataframe tbody tr th {\n",
       "        vertical-align: top;\n",
       "    }\n",
       "\n",
       "    .dataframe thead th {\n",
       "        text-align: right;\n",
       "    }\n",
       "</style>\n",
       "<table border=\"1\" class=\"dataframe\">\n",
       "  <thead>\n",
       "    <tr style=\"text-align: right;\">\n",
       "      <th></th>\n",
       "      <th>model_name</th>\n",
       "      <th>predicted_good</th>\n",
       "      <th>All_test_samples</th>\n",
       "      <th>number_of_missclasified_samples</th>\n",
       "    </tr>\n",
       "  </thead>\n",
       "  <tbody>\n",
       "    <tr>\n",
       "      <th>0</th>\n",
       "      <td>Logistic Regression</td>\n",
       "      <td>1665</td>\n",
       "      <td>1702</td>\n",
       "      <td>37</td>\n",
       "    </tr>\n",
       "    <tr>\n",
       "      <th>1</th>\n",
       "      <td>NaiveBayes</td>\n",
       "      <td>1640</td>\n",
       "      <td>1702</td>\n",
       "      <td>62</td>\n",
       "    </tr>\n",
       "    <tr>\n",
       "      <th>3</th>\n",
       "      <td>Linear Suppor Vector</td>\n",
       "      <td>1640</td>\n",
       "      <td>1702</td>\n",
       "      <td>62</td>\n",
       "    </tr>\n",
       "    <tr>\n",
       "      <th>2</th>\n",
       "      <td>Decision Tree</td>\n",
       "      <td>1630</td>\n",
       "      <td>1702</td>\n",
       "      <td>72</td>\n",
       "    </tr>\n",
       "  </tbody>\n",
       "</table>\n",
       "</div>"
      ],
      "text/plain": [
       "             model_name  predicted_good  All_test_samples  \\\n",
       "0   Logistic Regression            1665              1702   \n",
       "1            NaiveBayes            1640              1702   \n",
       "3  Linear Suppor Vector            1640              1702   \n",
       "2         Decision Tree            1630              1702   \n",
       "\n",
       "   number_of_missclasified_samples  \n",
       "0                               37  \n",
       "1                               62  \n",
       "3                               62  \n",
       "2                               72  "
      ]
     },
     "execution_count": 128,
     "metadata": {},
     "output_type": "execute_result"
    }
   ],
   "source": [
    "df_comparision['number_of_missclasified_samples'] = df_comparision.All_test_samples-df_comparision.predicted_good\n",
    "df_comparision = df_comparision.sort_values(by='number_of_missclasified_samples')\n",
    "df_comparision"
   ]
  },
  {
   "cell_type": "markdown",
   "id": "c279ebd1",
   "metadata": {},
   "source": [
    "In summary, the best model in this task was the Logistic Regression model. This model was wrong in only 37 papers. This means that the model was wrong in only 2% of the cases. The worst model among those mentioned turned out to be the decision tree "
   ]
  }
 ],
 "metadata": {
  "kernelspec": {
   "display_name": "nlp",
   "language": "python",
   "name": "nlp"
  },
  "language_info": {
   "codemirror_mode": {
    "name": "ipython",
    "version": 3
   },
   "file_extension": ".py",
   "mimetype": "text/x-python",
   "name": "python",
   "nbconvert_exporter": "python",
   "pygments_lexer": "ipython3",
   "version": "3.9.6"
  },
  "toc": {
   "base_numbering": 1,
   "nav_menu": {},
   "number_sections": true,
   "sideBar": true,
   "skip_h1_title": false,
   "title_cell": "Table of Contents",
   "title_sidebar": "Contents",
   "toc_cell": false,
   "toc_position": {
    "height": "calc(100% - 180px)",
    "left": "10px",
    "top": "150px",
    "width": "384px"
   },
   "toc_section_display": true,
   "toc_window_display": true
  },
  "varInspector": {
   "cols": {
    "lenName": 16,
    "lenType": 16,
    "lenVar": "41"
   },
   "kernels_config": {
    "python": {
     "delete_cmd_postfix": "",
     "delete_cmd_prefix": "del ",
     "library": "var_list.py",
     "varRefreshCmd": "print(var_dic_list())"
    },
    "r": {
     "delete_cmd_postfix": ") ",
     "delete_cmd_prefix": "rm(",
     "library": "var_list.r",
     "varRefreshCmd": "cat(var_dic_list()) "
    }
   },
   "types_to_exclude": [
    "module",
    "function",
    "builtin_function_or_method",
    "instance",
    "_Feature"
   ],
   "window_display": false
  }
 },
 "nbformat": 4,
 "nbformat_minor": 5
}
